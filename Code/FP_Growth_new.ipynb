{
  "nbformat": 4,
  "nbformat_minor": 0,
  "metadata": {
    "colab": {
      "name": "FP-Growth new",
      "provenance": []
    },
    "kernelspec": {
      "name": "python3",
      "display_name": "Python 3"
    }
  },
  "cells": [
    {
      "cell_type": "code",
      "metadata": {
        "id": "xly3trUeSFIW"
      },
      "source": [
        "import pandas as pd\n",
        "from itertools import combinations"
      ],
      "execution_count": 7,
      "outputs": []
    },
    {
      "cell_type": "code",
      "metadata": {
        "id": "R2q8vgxSSMZQ"
      },
      "source": [
        "user = pd.read_csv('user_demos50.csv')\n",
        "pred = pd.read_csv('final_p.csv')"
      ],
      "execution_count": 8,
      "outputs": []
    },
    {
      "cell_type": "code",
      "metadata": {
        "id": "cr-Ymvg8ZWAX"
      },
      "source": [
        "df = pd.merge(user,pred,how='inner',on='user_id')\n",
        "df.drop(['screen_name_x','user_id','user_description_x','user_follower_count_x','verified_x','City_x','State_x','Country_x','Country_y','Unnamed: 0','status_id','time_retrieved','text','created_at','place','coordinates','screen_name_y','user_description_y','user_location'],axis =1,inplace = True)\n",
        "df.dropna(subset=['org'],axis=0,inplace=True)"
      ],
      "execution_count": 122,
      "outputs": []
    },
    {
      "cell_type": "code",
      "metadata": {
        "colab": {
          "base_uri": "https://localhost:8080/"
        },
        "id": "8jlF9JzZZcX0",
        "outputId": "25d36116-f669-4868-c9a5-ef5ace651ea3"
      },
      "source": [
        "df['gender'][df['org'] == True] = 'No_Gender'\n",
        "df['age'][df['org'] == True] = 'No_Age'\n",
        "df['City'] = df['City_y'].fillna('City_Unknow')\n",
        "df['State'] = df['State_y'].fillna('City_Unknow')\n",
        "df.drop(['City_y','State_y'],axis=1,inplace=True)"
      ],
      "execution_count": 123,
      "outputs": [
        {
          "output_type": "stream",
          "text": [
            "/usr/local/lib/python3.6/dist-packages/ipykernel_launcher.py:1: SettingWithCopyWarning: \n",
            "A value is trying to be set on a copy of a slice from a DataFrame\n",
            "\n",
            "See the caveats in the documentation: https://pandas.pydata.org/pandas-docs/stable/user_guide/indexing.html#returning-a-view-versus-a-copy\n",
            "  \"\"\"Entry point for launching an IPython kernel.\n",
            "/usr/local/lib/python3.6/dist-packages/ipykernel_launcher.py:2: SettingWithCopyWarning: \n",
            "A value is trying to be set on a copy of a slice from a DataFrame\n",
            "\n",
            "See the caveats in the documentation: https://pandas.pydata.org/pandas-docs/stable/user_guide/indexing.html#returning-a-view-versus-a-copy\n",
            "  \n"
          ],
          "name": "stderr"
        }
      ]
    },
    {
      "cell_type": "code",
      "metadata": {
        "id": "N9-uGLdnZfu9"
      },
      "source": [
        "a = []\n",
        "for i in df['user_follower_count_y']:\n",
        "  if i > 3362:\n",
        "    a.append('follower_count_top25%')\n",
        "  elif i > 779:\n",
        "    a.append('follower_count_25%-50%')\n",
        "  elif i > 269:\n",
        "    a.append('follower_count_50%-75%')\n",
        "  else:\n",
        "    a.append('follower_count_bottom25%')\n",
        "df['user_follower_count'] = a\n",
        "df.drop('user_follower_count_y',axis=1,inplace=True)"
      ],
      "execution_count": 124,
      "outputs": []
    },
    {
      "cell_type": "code",
      "metadata": {
        "colab": {
          "base_uri": "https://localhost:8080/"
        },
        "id": "Fv4KW5ruZfyg",
        "outputId": "579d8eb6-1590-4cfc-d965-447e5cc676bd"
      },
      "source": [
        "df['org'][df['org'] == True] = 'isorg'\n",
        "df['org'][df['org'] == False] = 'notorg'\n",
        "df['verified_y'][df['verified_y'] == True] = 'isverified'\n",
        "df['verified_y'][df['verified_y'] == False] = 'notverified'"
      ],
      "execution_count": 125,
      "outputs": [
        {
          "output_type": "stream",
          "text": [
            "/usr/local/lib/python3.6/dist-packages/ipykernel_launcher.py:1: SettingWithCopyWarning: \n",
            "A value is trying to be set on a copy of a slice from a DataFrame\n",
            "\n",
            "See the caveats in the documentation: https://pandas.pydata.org/pandas-docs/stable/user_guide/indexing.html#returning-a-view-versus-a-copy\n",
            "  \"\"\"Entry point for launching an IPython kernel.\n",
            "/usr/local/lib/python3.6/dist-packages/ipykernel_launcher.py:2: SettingWithCopyWarning: \n",
            "A value is trying to be set on a copy of a slice from a DataFrame\n",
            "\n",
            "See the caveats in the documentation: https://pandas.pydata.org/pandas-docs/stable/user_guide/indexing.html#returning-a-view-versus-a-copy\n",
            "  \n",
            "/usr/local/lib/python3.6/dist-packages/ipykernel_launcher.py:3: SettingWithCopyWarning: \n",
            "A value is trying to be set on a copy of a slice from a DataFrame\n",
            "\n",
            "See the caveats in the documentation: https://pandas.pydata.org/pandas-docs/stable/user_guide/indexing.html#returning-a-view-versus-a-copy\n",
            "  This is separate from the ipykernel package so we can avoid doing imports until\n"
          ],
          "name": "stderr"
        }
      ]
    },
    {
      "cell_type": "code",
      "metadata": {
        "colab": {
          "base_uri": "https://localhost:8080/",
          "height": 204
        },
        "id": "pxyAd9ufg0Gn",
        "outputId": "9e27e2e7-a6c8-44be-df0c-569dfd41b31d"
      },
      "source": [
        "df.head(5)"
      ],
      "execution_count": 126,
      "outputs": [
        {
          "output_type": "execute_result",
          "data": {
            "text/html": [
              "<div>\n",
              "<style scoped>\n",
              "    .dataframe tbody tr th:only-of-type {\n",
              "        vertical-align: middle;\n",
              "    }\n",
              "\n",
              "    .dataframe tbody tr th {\n",
              "        vertical-align: top;\n",
              "    }\n",
              "\n",
              "    .dataframe thead th {\n",
              "        text-align: right;\n",
              "    }\n",
              "</style>\n",
              "<table border=\"1\" class=\"dataframe\">\n",
              "  <thead>\n",
              "    <tr style=\"text-align: right;\">\n",
              "      <th></th>\n",
              "      <th>gender</th>\n",
              "      <th>age</th>\n",
              "      <th>org</th>\n",
              "      <th>favorite_count</th>\n",
              "      <th>retweet_count</th>\n",
              "      <th>verified_y</th>\n",
              "      <th>sentiment</th>\n",
              "      <th>City</th>\n",
              "      <th>State</th>\n",
              "      <th>user_follower_count</th>\n",
              "    </tr>\n",
              "  </thead>\n",
              "  <tbody>\n",
              "    <tr>\n",
              "      <th>0</th>\n",
              "      <td>No_Gender</td>\n",
              "      <td>No_Age</td>\n",
              "      <td>isorg</td>\n",
              "      <td>348.0</td>\n",
              "      <td>74.0</td>\n",
              "      <td>isverified</td>\n",
              "      <td>1</td>\n",
              "      <td>Los Angeles</td>\n",
              "      <td>CA</td>\n",
              "      <td>follower_count_top25%</td>\n",
              "    </tr>\n",
              "    <tr>\n",
              "      <th>1</th>\n",
              "      <td>No_Gender</td>\n",
              "      <td>No_Age</td>\n",
              "      <td>isorg</td>\n",
              "      <td>1495.0</td>\n",
              "      <td>246.0</td>\n",
              "      <td>isverified</td>\n",
              "      <td>1</td>\n",
              "      <td>Los Angeles</td>\n",
              "      <td>CA</td>\n",
              "      <td>follower_count_top25%</td>\n",
              "    </tr>\n",
              "    <tr>\n",
              "      <th>2</th>\n",
              "      <td>No_Gender</td>\n",
              "      <td>No_Age</td>\n",
              "      <td>isorg</td>\n",
              "      <td>634.0</td>\n",
              "      <td>106.0</td>\n",
              "      <td>isverified</td>\n",
              "      <td>1</td>\n",
              "      <td>Los Angeles</td>\n",
              "      <td>CA</td>\n",
              "      <td>follower_count_top25%</td>\n",
              "    </tr>\n",
              "    <tr>\n",
              "      <th>3</th>\n",
              "      <td>No_Gender</td>\n",
              "      <td>No_Age</td>\n",
              "      <td>isorg</td>\n",
              "      <td>20.0</td>\n",
              "      <td>6.0</td>\n",
              "      <td>isverified</td>\n",
              "      <td>1</td>\n",
              "      <td>DC</td>\n",
              "      <td>MD</td>\n",
              "      <td>follower_count_top25%</td>\n",
              "    </tr>\n",
              "    <tr>\n",
              "      <th>4</th>\n",
              "      <td>No_Gender</td>\n",
              "      <td>No_Age</td>\n",
              "      <td>isorg</td>\n",
              "      <td>3.0</td>\n",
              "      <td>1.0</td>\n",
              "      <td>isverified</td>\n",
              "      <td>1</td>\n",
              "      <td>DC</td>\n",
              "      <td>MD</td>\n",
              "      <td>follower_count_top25%</td>\n",
              "    </tr>\n",
              "  </tbody>\n",
              "</table>\n",
              "</div>"
            ],
            "text/plain": [
              "      gender     age    org  ...         City  State    user_follower_count\n",
              "0  No_Gender  No_Age  isorg  ...  Los Angeles     CA  follower_count_top25%\n",
              "1  No_Gender  No_Age  isorg  ...  Los Angeles     CA  follower_count_top25%\n",
              "2  No_Gender  No_Age  isorg  ...  Los Angeles     CA  follower_count_top25%\n",
              "3  No_Gender  No_Age  isorg  ...           DC     MD  follower_count_top25%\n",
              "4  No_Gender  No_Age  isorg  ...           DC     MD  follower_count_top25%\n",
              "\n",
              "[5 rows x 10 columns]"
            ]
          },
          "metadata": {
            "tags": []
          },
          "execution_count": 126
        }
      ]
    },
    {
      "cell_type": "code",
      "metadata": {
        "id": "ksd5K_d_XFFl"
      },
      "source": [
        "CA = df[df['State'] == 'CA']"
      ],
      "execution_count": 127,
      "outputs": []
    },
    {
      "cell_type": "code",
      "metadata": {
        "colab": {
          "base_uri": "https://localhost:8080/",
          "height": 80
        },
        "id": "UhpHKFr0XUNF",
        "outputId": "07af7048-9350-4ee6-817a-c4a0d81a3ebe"
      },
      "source": [
        "CA.head(1)"
      ],
      "execution_count": 128,
      "outputs": [
        {
          "output_type": "execute_result",
          "data": {
            "text/html": [
              "<div>\n",
              "<style scoped>\n",
              "    .dataframe tbody tr th:only-of-type {\n",
              "        vertical-align: middle;\n",
              "    }\n",
              "\n",
              "    .dataframe tbody tr th {\n",
              "        vertical-align: top;\n",
              "    }\n",
              "\n",
              "    .dataframe thead th {\n",
              "        text-align: right;\n",
              "    }\n",
              "</style>\n",
              "<table border=\"1\" class=\"dataframe\">\n",
              "  <thead>\n",
              "    <tr style=\"text-align: right;\">\n",
              "      <th></th>\n",
              "      <th>gender</th>\n",
              "      <th>age</th>\n",
              "      <th>org</th>\n",
              "      <th>favorite_count</th>\n",
              "      <th>retweet_count</th>\n",
              "      <th>verified_y</th>\n",
              "      <th>sentiment</th>\n",
              "      <th>City</th>\n",
              "      <th>State</th>\n",
              "      <th>user_follower_count</th>\n",
              "    </tr>\n",
              "  </thead>\n",
              "  <tbody>\n",
              "    <tr>\n",
              "      <th>0</th>\n",
              "      <td>No_Gender</td>\n",
              "      <td>No_Age</td>\n",
              "      <td>isorg</td>\n",
              "      <td>348.0</td>\n",
              "      <td>74.0</td>\n",
              "      <td>isverified</td>\n",
              "      <td>1</td>\n",
              "      <td>Los Angeles</td>\n",
              "      <td>CA</td>\n",
              "      <td>follower_count_top25%</td>\n",
              "    </tr>\n",
              "  </tbody>\n",
              "</table>\n",
              "</div>"
            ],
            "text/plain": [
              "      gender     age    org  ...         City  State    user_follower_count\n",
              "0  No_Gender  No_Age  isorg  ...  Los Angeles     CA  follower_count_top25%\n",
              "\n",
              "[1 rows x 10 columns]"
            ]
          },
          "metadata": {
            "tags": []
          },
          "execution_count": 128
        }
      ]
    },
    {
      "cell_type": "code",
      "metadata": {
        "id": "5GJK0jzxbgPW"
      },
      "source": [
        "Data = df.copy()"
      ],
      "execution_count": 13,
      "outputs": []
    },
    {
      "cell_type": "code",
      "metadata": {
        "id": "jUqWpj_QannD"
      },
      "source": [
        "Data.drop(['favorite_count','retweet_count'],axis=1,inplace=True)"
      ],
      "execution_count": 14,
      "outputs": []
    },
    {
      "cell_type": "code",
      "metadata": {
        "colab": {
          "base_uri": "https://localhost:8080/",
          "height": 204
        },
        "id": "9g2psu8qauGR",
        "outputId": "0f4694af-1597-47d2-adda-9e9f698720b8"
      },
      "source": [
        "Data.head(5)"
      ],
      "execution_count": 15,
      "outputs": [
        {
          "output_type": "execute_result",
          "data": {
            "text/html": [
              "<div>\n",
              "<style scoped>\n",
              "    .dataframe tbody tr th:only-of-type {\n",
              "        vertical-align: middle;\n",
              "    }\n",
              "\n",
              "    .dataframe tbody tr th {\n",
              "        vertical-align: top;\n",
              "    }\n",
              "\n",
              "    .dataframe thead th {\n",
              "        text-align: right;\n",
              "    }\n",
              "</style>\n",
              "<table border=\"1\" class=\"dataframe\">\n",
              "  <thead>\n",
              "    <tr style=\"text-align: right;\">\n",
              "      <th></th>\n",
              "      <th>gender</th>\n",
              "      <th>age</th>\n",
              "      <th>org</th>\n",
              "      <th>verified_y</th>\n",
              "      <th>sentiment</th>\n",
              "      <th>City</th>\n",
              "      <th>State</th>\n",
              "      <th>user_follower_count</th>\n",
              "    </tr>\n",
              "  </thead>\n",
              "  <tbody>\n",
              "    <tr>\n",
              "      <th>0</th>\n",
              "      <td>No_Gender</td>\n",
              "      <td>No_Age</td>\n",
              "      <td>isorg</td>\n",
              "      <td>isverified</td>\n",
              "      <td>1</td>\n",
              "      <td>Los Angeles</td>\n",
              "      <td>CA</td>\n",
              "      <td>follower_count_top25%</td>\n",
              "    </tr>\n",
              "    <tr>\n",
              "      <th>1</th>\n",
              "      <td>No_Gender</td>\n",
              "      <td>No_Age</td>\n",
              "      <td>isorg</td>\n",
              "      <td>isverified</td>\n",
              "      <td>1</td>\n",
              "      <td>Los Angeles</td>\n",
              "      <td>CA</td>\n",
              "      <td>follower_count_top25%</td>\n",
              "    </tr>\n",
              "    <tr>\n",
              "      <th>2</th>\n",
              "      <td>No_Gender</td>\n",
              "      <td>No_Age</td>\n",
              "      <td>isorg</td>\n",
              "      <td>isverified</td>\n",
              "      <td>1</td>\n",
              "      <td>Los Angeles</td>\n",
              "      <td>CA</td>\n",
              "      <td>follower_count_top25%</td>\n",
              "    </tr>\n",
              "    <tr>\n",
              "      <th>3</th>\n",
              "      <td>No_Gender</td>\n",
              "      <td>No_Age</td>\n",
              "      <td>isorg</td>\n",
              "      <td>isverified</td>\n",
              "      <td>1</td>\n",
              "      <td>DC</td>\n",
              "      <td>MD</td>\n",
              "      <td>follower_count_top25%</td>\n",
              "    </tr>\n",
              "    <tr>\n",
              "      <th>4</th>\n",
              "      <td>No_Gender</td>\n",
              "      <td>No_Age</td>\n",
              "      <td>isorg</td>\n",
              "      <td>isverified</td>\n",
              "      <td>1</td>\n",
              "      <td>DC</td>\n",
              "      <td>MD</td>\n",
              "      <td>follower_count_top25%</td>\n",
              "    </tr>\n",
              "  </tbody>\n",
              "</table>\n",
              "</div>"
            ],
            "text/plain": [
              "      gender     age    org  ...         City  State    user_follower_count\n",
              "0  No_Gender  No_Age  isorg  ...  Los Angeles     CA  follower_count_top25%\n",
              "1  No_Gender  No_Age  isorg  ...  Los Angeles     CA  follower_count_top25%\n",
              "2  No_Gender  No_Age  isorg  ...  Los Angeles     CA  follower_count_top25%\n",
              "3  No_Gender  No_Age  isorg  ...           DC     MD  follower_count_top25%\n",
              "4  No_Gender  No_Age  isorg  ...           DC     MD  follower_count_top25%\n",
              "\n",
              "[5 rows x 8 columns]"
            ]
          },
          "metadata": {
            "tags": []
          },
          "execution_count": 15
        }
      ]
    },
    {
      "cell_type": "code",
      "metadata": {
        "colab": {
          "base_uri": "https://localhost:8080/"
        },
        "id": "YGf7mFv6g9gD",
        "outputId": "0ea0d073-4f0f-4328-884c-4abf6878f2f8"
      },
      "source": [
        "Data['sentiment'].value_counts()"
      ],
      "execution_count": 25,
      "outputs": [
        {
          "output_type": "execute_result",
          "data": {
            "text/plain": [
              " 1    11327\n",
              "-1     3954\n",
              " 0     2663\n",
              "Name: sentiment, dtype: int64"
            ]
          },
          "metadata": {
            "tags": []
          },
          "execution_count": 25
        }
      ]
    },
    {
      "cell_type": "code",
      "metadata": {
        "colab": {
          "base_uri": "https://localhost:8080/"
        },
        "id": "keTNH13fZ7KY",
        "outputId": "ddc7dd1e-8f06-4b07-e3dd-12a06da7d67f"
      },
      "source": [
        "POS = Data[Data['sentiment'] == 1]\n",
        "POS.drop('sentiment',axis=1,inplace =True)"
      ],
      "execution_count": 26,
      "outputs": [
        {
          "output_type": "stream",
          "text": [
            "/usr/local/lib/python3.6/dist-packages/pandas/core/frame.py:4174: SettingWithCopyWarning: \n",
            "A value is trying to be set on a copy of a slice from a DataFrame\n",
            "\n",
            "See the caveats in the documentation: https://pandas.pydata.org/pandas-docs/stable/user_guide/indexing.html#returning-a-view-versus-a-copy\n",
            "  errors=errors,\n"
          ],
          "name": "stderr"
        }
      ]
    },
    {
      "cell_type": "code",
      "metadata": {
        "colab": {
          "base_uri": "https://localhost:8080/"
        },
        "id": "LMaUvGaIZ7M8",
        "outputId": "8125a7a4-8b28-41d1-c7e5-23d8a2352ebb"
      },
      "source": [
        "NEG = Data[Data['sentiment'] == -1]\n",
        "NEG.drop('sentiment',axis=1,inplace =True)"
      ],
      "execution_count": 27,
      "outputs": [
        {
          "output_type": "stream",
          "text": [
            "/usr/local/lib/python3.6/dist-packages/pandas/core/frame.py:4174: SettingWithCopyWarning: \n",
            "A value is trying to be set on a copy of a slice from a DataFrame\n",
            "\n",
            "See the caveats in the documentation: https://pandas.pydata.org/pandas-docs/stable/user_guide/indexing.html#returning-a-view-versus-a-copy\n",
            "  errors=errors,\n"
          ],
          "name": "stderr"
        }
      ]
    },
    {
      "cell_type": "code",
      "metadata": {
        "colab": {
          "base_uri": "https://localhost:8080/"
        },
        "id": "9jxPiGLkZ7PJ",
        "outputId": "4ff5d3bb-87a2-4ae0-8e3f-c34f952cc909"
      },
      "source": [
        "NEG['org'].value_counts()"
      ],
      "execution_count": 28,
      "outputs": [
        {
          "output_type": "execute_result",
          "data": {
            "text/plain": [
              "notorg    2507\n",
              "isorg     1447\n",
              "Name: org, dtype: int64"
            ]
          },
          "metadata": {
            "tags": []
          },
          "execution_count": 28
        }
      ]
    },
    {
      "cell_type": "code",
      "metadata": {
        "colab": {
          "base_uri": "https://localhost:8080/"
        },
        "id": "GCa0JUdzbwAs",
        "outputId": "9713b678-fea5-4210-ac1f-2a99751a8227"
      },
      "source": [
        "POS['org'].value_counts()"
      ],
      "execution_count": 29,
      "outputs": [
        {
          "output_type": "execute_result",
          "data": {
            "text/plain": [
              "notorg    7291\n",
              "isorg     4036\n",
              "Name: org, dtype: int64"
            ]
          },
          "metadata": {
            "tags": []
          },
          "execution_count": 29
        }
      ]
    },
    {
      "cell_type": "code",
      "metadata": {
        "id": "y2PgllcAgKdu"
      },
      "source": [
        "NEG_ORG = NEG[NEG['org']=='isorg']\n",
        "NEG_NORG = NEG[NEG['org']=='notorg']"
      ],
      "execution_count": 61,
      "outputs": []
    },
    {
      "cell_type": "code",
      "metadata": {
        "id": "p51afLrNb0sZ"
      },
      "source": [
        "POS_ORG = POS[POS['org']=='isorg']\n",
        "POS_NORG = POS[POS['org']=='notorg']"
      ],
      "execution_count": 62,
      "outputs": []
    },
    {
      "cell_type": "code",
      "metadata": {
        "colab": {
          "base_uri": "https://localhost:8080/"
        },
        "id": "v8CGpcgaaMN9",
        "outputId": "0f04bd32-d250-4265-fa7a-aa5553e3b23e"
      },
      "source": [
        "len(NEG_ORG)"
      ],
      "execution_count": 65,
      "outputs": [
        {
          "output_type": "execute_result",
          "data": {
            "text/plain": [
              "1447"
            ]
          },
          "metadata": {
            "tags": []
          },
          "execution_count": 65
        }
      ]
    },
    {
      "cell_type": "code",
      "metadata": {
        "colab": {
          "base_uri": "https://localhost:8080/"
        },
        "id": "vSkANl0YhsSU",
        "outputId": "0c3c53c5-453d-4602-cc7a-fbc24ad55e68"
      },
      "source": [
        "len(NEG_NORG)"
      ],
      "execution_count": 66,
      "outputs": [
        {
          "output_type": "execute_result",
          "data": {
            "text/plain": [
              "2507"
            ]
          },
          "metadata": {
            "tags": []
          },
          "execution_count": 66
        }
      ]
    },
    {
      "cell_type": "code",
      "metadata": {
        "colab": {
          "base_uri": "https://localhost:8080/"
        },
        "id": "HunMH8YvlH4d",
        "outputId": "c40ef89a-d0dd-4897-b82c-982ddb352c09"
      },
      "source": [
        "len(POS_ORG)"
      ],
      "execution_count": 64,
      "outputs": [
        {
          "output_type": "execute_result",
          "data": {
            "text/plain": [
              "4036"
            ]
          },
          "metadata": {
            "tags": []
          },
          "execution_count": 64
        }
      ]
    },
    {
      "cell_type": "code",
      "metadata": {
        "colab": {
          "base_uri": "https://localhost:8080/"
        },
        "id": "Ch1iRrADlH-b",
        "outputId": "2bbcb021-36da-4b1f-b9dc-666ace144f7b"
      },
      "source": [
        "len(POS_NORG)"
      ],
      "execution_count": 63,
      "outputs": [
        {
          "output_type": "execute_result",
          "data": {
            "text/plain": [
              "7291"
            ]
          },
          "metadata": {
            "tags": []
          },
          "execution_count": 63
        }
      ]
    },
    {
      "cell_type": "code",
      "metadata": {
        "id": "7qzQRonpbsrf"
      },
      "source": [
        "df = POS.copy()"
      ],
      "execution_count": 112,
      "outputs": []
    },
    {
      "cell_type": "code",
      "metadata": {
        "id": "Hf4RXu_Fe1hI"
      },
      "source": [
        "Dataset = []\n",
        "for i in range(len(df)):\n",
        "  Dataset.append(list(df.iloc[i]))"
      ],
      "execution_count": 113,
      "outputs": []
    },
    {
      "cell_type": "code",
      "metadata": {
        "id": "D9sibEUhe1nl"
      },
      "source": [
        "class node:\n",
        "    def __init__(self, word, count=0, parent=None, link=None):\n",
        "        self.word=word\n",
        "        self.count=count\n",
        "        self.parent=parent\n",
        "        self.link=link\n",
        "        self.children={}\n",
        "    def visittree(self):\n",
        "        if self is None:\n",
        "            return None\n",
        "        output=[]\n",
        "        output.append(str(vocabdic[self.word]) + \" \" +str(self.word_count))\n",
        "        if len(list(self.children.keys()))>0:\n",
        "            for i in (list(self.children.keys())):\n",
        "                output.append(self.children[i].visittree())\n",
        "        return output"
      ],
      "execution_count": 114,
      "outputs": []
    },
    {
      "cell_type": "code",
      "metadata": {
        "id": "0zUonZwPe1rT"
      },
      "source": [
        "class fptree:\n",
        "    def __init__(self, data, minsup):\n",
        "        self.data=data\n",
        "        self.minsup=minsup\n",
        "        self.root = node(word=\"Null\", count=1)\n",
        "        self.nodetable=[]  #存储link信息\n",
        "        self.sortdic=[] #所有frequent items 按照顺序排好\n",
        "        self.dic={}   #所有frequent items 以及 count\n",
        "        self.orderdic={}\n",
        "        self.buildtree(data)\n",
        "    def buildtree(self, data):\n",
        "        for tran in data:\n",
        "            for words in tran:\n",
        "                if words in self.dic.keys():\n",
        "                    self.dic[words]+=1\n",
        "                else:\n",
        "                    self.dic[words]=1  # 1. 记录所有item以及对应的count，如果又count一下的item就删除掉\n",
        "        wordlist = list(self.dic.keys())\n",
        "        for word in wordlist:\n",
        "            if(self.dic[word]<self.minsup):\n",
        "                del self.dic[word]\n",
        "\n",
        "        self.sortdic = sorted(self.dic.items(), key=lambda x: (-x[1],x[0])) \n",
        "        #2. 建立一个记录所有link的list\n",
        "        t=0\n",
        "        for i in self.sortdic:\n",
        "            word = i[0]\n",
        "            wordc = i[1]\n",
        "            self.orderdic[word]=t\n",
        "            t+=1\n",
        "            info = {'word':word, 'wordcc':wordc, 'linknode': None}\n",
        "            self.nodetable.append(info)\n",
        "\n",
        "  # 3.开始建立tree，抽去每行内的frequent items  \n",
        "        for trans in data:\n",
        "            supword=[]\n",
        "            for word in trans:\n",
        "              if word in self.dic.keys():\n",
        "                supword.append(word)\n",
        "  #4. 把每一个item按照count的大小先后放入tree中\n",
        "\n",
        "            if len(supword)>0:\n",
        "                sortsupword = sorted(supword, key = lambda k: self.orderdic[k])\n",
        "                R = self.root\n",
        "                for i in sortsupword:                  \n",
        "                  if i in R.children.keys():\n",
        "                      R.children[i].count +=1\n",
        "                      R=R.children[i]\n",
        "                  else:\n",
        "                    R.children[i] = node(word=i,count=1,parent=R,link=None)\n",
        "                    R=R.children[i]\n",
        "                    for info in self.nodetable:\n",
        "                      if info[\"word\"] == R.word:\n",
        "                        if info[\"linknode\"] is None:\n",
        "                            info[\"linknode\"] = R\n",
        "                        else:\n",
        "                          iter_node = info[\"linknode\"]\n",
        "                          while iter_node.link:\n",
        "                            iter_node = iter_node.link\n",
        "                          iter_node.link = R\n",
        "\n",
        "    def condtreetran(self,prefix):    #找到每个prefix的所有path\n",
        "        if prefix.parent is None:\n",
        "            return None     \n",
        "        ALLPATH =[]\n",
        "        while prefix:\n",
        "            PATH=[]\n",
        "            Parent = prefix.parent\n",
        "            while Parent.parent:\n",
        "                PATH.append(Parent.word)\n",
        "                Parent=Parent.parent\n",
        "            PATH = PATH[::-1]\n",
        "            for i in range(prefix.count):\n",
        "                ALLPATH.append(PATH)   \n",
        "            prefix=prefix.link\n",
        "        return ALLPATH\n",
        "    \n",
        "    def findfqt(self,parentnode=None):\n",
        "        if len(list(self.root.children.keys()))==0:\n",
        "            return None\n",
        "        result=[]\n",
        "        sup=self.minsup\n",
        "        revtable = self.nodetable[::-1]\n",
        "        print(revtable)\n",
        "        for n in revtable:\n",
        "          print(n)        # 找到每一个item的frequent pattern\n",
        "          fqset=[set(),0]\n",
        "          if(parentnode==None):      \n",
        "              fqset[0]={n['word'],}\n",
        "              print(fqset)\n",
        "          else:\n",
        "              fqset[0] = {n['word']}.union(parentnode[0])\n",
        "          fqset[1]=n['wordcc']\n",
        "          result.append(fqset)\n",
        "          print(result)\n",
        "          condtran = self.condtreetran(n['linknode'])\n",
        "          contree= fptree(condtran,sup)\n",
        "          conwords = contree.findfqt(fqset)\n",
        "          print(conwords)\n",
        "          if conwords is not None:\n",
        "              for words in conwords:\n",
        "                  result.append(words)\n",
        "        return result"
      ],
      "execution_count": 115,
      "outputs": []
    },
    {
      "cell_type": "code",
      "metadata": {
        "colab": {
          "base_uri": "https://localhost:8080/"
        },
        "id": "uw5gl3j-e1uJ",
        "outputId": "64028b4b-2a3c-4206-d7b1-981e3bb1b5b3"
      },
      "source": [
        "import time\n",
        "start_time = time.time()\n",
        "FP_TREE = fptree(Dataset,260)\n",
        "print(\"--- %s seconds ---\" % (time.time() - start_time))"
      ],
      "execution_count": 116,
      "outputs": [
        {
          "output_type": "stream",
          "text": [
            "--- 0.13878107070922852 seconds ---\n"
          ],
          "name": "stdout"
        }
      ]
    },
    {
      "cell_type": "code",
      "metadata": {
        "id": "77dPEtOPe1xC"
      },
      "source": [
        "start_time = time.time()\n",
        "frequentwordset = FP_TREE.findfqt()\n",
        "print(\"--- %s seconds ---\" % (time.time() - start_time))"
      ],
      "execution_count": null,
      "outputs": []
    },
    {
      "cell_type": "code",
      "metadata": {
        "id": "tsXfVfGte1z-"
      },
      "source": [
        "frequentwordset=sorted(frequentwordset,key = lambda k: -k[1] )\n",
        "frequentwordset"
      ],
      "execution_count": null,
      "outputs": []
    },
    {
      "cell_type": "code",
      "metadata": {
        "id": "JF9E3X13e13C"
      },
      "source": [
        "pos_set = frequentwordset "
      ],
      "execution_count": 109,
      "outputs": []
    },
    {
      "cell_type": "code",
      "metadata": {
        "id": "04GL0Lfwe2Dd"
      },
      "source": [
        "neg_set = frequentwordset "
      ],
      "execution_count": 100,
      "outputs": []
    },
    {
      "cell_type": "code",
      "metadata": {
        "id": "5tIj8l0y_dYr"
      },
      "source": [
        "pos_set"
      ],
      "execution_count": null,
      "outputs": []
    },
    {
      "cell_type": "code",
      "metadata": {
        "id": "2zzuRjih_fI4"
      },
      "source": [
        "neg_set"
      ],
      "execution_count": null,
      "outputs": []
    },
    {
      "cell_type": "code",
      "metadata": {
        "id": "SdJIx9NZ3Tf5"
      },
      "source": [
        "pos_set"
      ],
      "execution_count": null,
      "outputs": []
    },
    {
      "cell_type": "code",
      "metadata": {
        "id": "_-kg26lAe2GA"
      },
      "source": [
        "neg_set"
      ],
      "execution_count": null,
      "outputs": []
    },
    {
      "cell_type": "code",
      "metadata": {
        "id": "8GqrR2WYSMnn"
      },
      "source": [
        "class treeNode:\n",
        "    def __init__(self, nameValue, numOccur, parentNode):\n",
        "        self.name = nameValue\n",
        "        self.count = numOccur\n",
        "        self.nodeLink = None\n",
        "        self.parent = parentNode     \n",
        "        self.children = {}    \n",
        "    def inc(self, numOccur):\n",
        "        self.count += numOccur      \n",
        "    def disp(self, ind=1):\n",
        "        print ('  '*ind, self.name, ' ', self.count)\n",
        "        for child in self.children.values():\n",
        "            child.disp(ind+1)"
      ],
      "execution_count": null,
      "outputs": []
    },
    {
      "cell_type": "code",
      "metadata": {
        "id": "xDUzCs5NSMym"
      },
      "source": [
        "def createInitset(df):\n",
        "  retDict = {}\n",
        "  for i in range(len(df)):\n",
        "    trans = list(df.iloc[i,])\n",
        "    retDict[frozenset(trans)] = 1\n",
        "  return retDict"
      ],
      "execution_count": null,
      "outputs": []
    },
    {
      "cell_type": "code",
      "metadata": {
        "id": "jG-A2ezoSM1m"
      },
      "source": [
        "initSet = createInitset(POS)"
      ],
      "execution_count": null,
      "outputs": []
    },
    {
      "cell_type": "code",
      "metadata": {
        "id": "wmEbX38APrR1",
        "colab": {
          "base_uri": "https://localhost:8080/"
        },
        "outputId": "8a79494d-8ce2-4e2c-e015-c696f5cf7cb1"
      },
      "source": [
        "len(initSet)"
      ],
      "execution_count": null,
      "outputs": [
        {
          "output_type": "execute_result",
          "data": {
            "text/plain": [
              "538"
            ]
          },
          "metadata": {
            "tags": []
          },
          "execution_count": 60
        }
      ]
    },
    {
      "cell_type": "code",
      "metadata": {
        "id": "MYSxUTNoSM4T"
      },
      "source": [
        "headerTable = {}\n",
        "for trans in initSet:\n",
        "    for item in trans:\n",
        "        headerTable[item] = headerTable.get(item, 0) + initSet[trans]\n",
        "for k in list(headerTable):\n",
        "    if headerTable[k] < 100: \n",
        "        del(headerTable[k])\n",
        "freqItemSet = set(headerTable.keys())"
      ],
      "execution_count": null,
      "outputs": []
    },
    {
      "cell_type": "code",
      "metadata": {
        "id": "gKMrzi_ESM7I"
      },
      "source": [
        "for k in headerTable:\n",
        "    headerTable[k] = [headerTable[k],None]"
      ],
      "execution_count": null,
      "outputs": []
    },
    {
      "cell_type": "code",
      "metadata": {
        "id": "0toKYsfKJZyv",
        "colab": {
          "base_uri": "https://localhost:8080/"
        },
        "outputId": "6430dfb9-53e6-44a6-d090-726b9e485580"
      },
      "source": [
        "headerTable"
      ],
      "execution_count": null,
      "outputs": [
        {
          "output_type": "execute_result",
          "data": {
            "text/plain": [
              "{'30-39': [103, None],\n",
              " '>=40': [202, None],\n",
              " 'City_Unknow': [131, None],\n",
              " 'No_Age': [112, None],\n",
              " 'No_Gender': [112, None],\n",
              " 'follower_count_25%-50%': [122, None],\n",
              " 'follower_count_50%-75%': [111, None],\n",
              " 'follower_count_bottom25%': [206, None],\n",
              " 'isorg': [112, None],\n",
              " 'male': [331, None],\n",
              " 'notorg': [426, None],\n",
              " 'notverified': [511, None]}"
            ]
          },
          "metadata": {
            "tags": []
          },
          "execution_count": 63
        }
      ]
    },
    {
      "cell_type": "code",
      "metadata": {
        "id": "VB2EVTJaJaM1",
        "colab": {
          "base_uri": "https://localhost:8080/"
        },
        "outputId": "d380708e-8d4d-4465-d9a2-03f6f7275c42"
      },
      "source": [
        "freqItemSet"
      ],
      "execution_count": null,
      "outputs": [
        {
          "output_type": "execute_result",
          "data": {
            "text/plain": [
              "{'30-39',\n",
              " '>=40',\n",
              " 'City_Unknow',\n",
              " 'No_Age',\n",
              " 'No_Gender',\n",
              " 'follower_count_25%-50%',\n",
              " 'follower_count_50%-75%',\n",
              " 'follower_count_bottom25%',\n",
              " 'isorg',\n",
              " 'male',\n",
              " 'notorg',\n",
              " 'notverified'}"
            ]
          },
          "metadata": {
            "tags": []
          },
          "execution_count": 64
        }
      ]
    },
    {
      "cell_type": "code",
      "metadata": {
        "id": "aAi72zLzSNA-"
      },
      "source": [
        "cur_root = treeNode('Null Set', 1, None)"
      ],
      "execution_count": null,
      "outputs": []
    },
    {
      "cell_type": "code",
      "metadata": {
        "id": "e_4s6ffqc4Ry",
        "colab": {
          "base_uri": "https://localhost:8080/"
        },
        "outputId": "318f4a36-1bb6-4a2c-9b2c-4fdb0004bda5"
      },
      "source": [
        "# go throught database for the second time\n",
        "initSet.items()"
      ],
      "execution_count": null,
      "outputs": [
        {
          "output_type": "execute_result",
          "data": {
            "text/plain": [
              "dict_items([(frozenset({'VA', 'Arlington', 'notorg', '19-29', 'notverified', 'female', 'follower_count_25%-50%'}), 1), (frozenset({'male', 'notorg', 'NC', 'follower_count_50%-75%', '>=40', 'Wilmington', 'notverified'}), 1), (frozenset({'male', 'ID', 'Idaho Falls', 'notorg', 'follower_count_50%-75%', '>=40', 'notverified'}), 1), (frozenset({'notorg', '19-29', 'MD', 'DC', 'follower_count_bottom25%', 'notverified', 'female'}), 1), (frozenset({'PA', 'City_Unknow', 'isorg', 'No_Gender', 'notverified', 'No_Age', 'follower_count_25%-50%'}), 1), (frozenset({'SC', 'follower_count_50%-75%', 'Aiken', 'isorg', 'No_Gender', 'notverified', 'No_Age'}), 1), (frozenset({'male', 'Chicago', 'notorg', '30-39', 'IL', 'notverified', 'follower_count_25%-50%'}), 1), (frozenset({'isverified', 'Oak Ridge', 'TN', 'follower_count_top25%', 'isorg', 'No_Gender', 'No_Age'}), 1), (frozenset({'male', 'Sunrise', 'notorg', 'FL', '>=40', 'notverified', 'follower_count_25%-50%'}), 1), (frozenset({'male', 'Santa Maria', 'CA', 'notorg', 'follower_count_bottom25%', '>=40', 'notverified'}), 1), (frozenset({'male', 'notorg', '30-39', 'follower_count_50%-75%', 'DC', 'notverified', 'MD'}), 1), (frozenset({'OR', 'follower_count_top25%', 'Portland', 'isorg', 'No_Gender', 'notverified', 'No_Age'}), 1), (frozenset({'ID', 'Idaho Falls', 'follower_count_bottom25%', 'isorg', 'No_Gender', 'notverified', 'No_Age'}), 1), (frozenset({'notorg', 'City_Unknow', 'follower_count_50%-75%', '>=40', 'notverified', 'female'}), 1), (frozenset({'male', 'Houston', 'TX', 'notorg', 'follower_count_50%-75%', '>=40', 'notverified'}), 1), (frozenset({'male', 'Dallas', 'TX', 'notorg', 'follower_count_top25%', '>=40', 'notverified'}), 1), (frozenset({'notorg', 'MD', 'follower_count_50%-75%', 'DC', '>=40', 'notverified', 'female'}), 1), (frozenset({'CA', 'follower_count_top25%', 'Santa Barbara', 'isorg', 'No_Gender', 'notverified', 'No_Age'}), 1), (frozenset({'isverified', 'ID', 'Idaho Falls', 'follower_count_top25%', 'isorg', 'No_Gender', 'No_Age'}), 1), (frozenset({'City_Unknow', 'follower_count_50%-75%', 'WI', 'isorg', 'No_Gender', 'notverified', 'No_Age'}), 1), (frozenset({'male', 'TX', 'notorg', '30-39', 'Austin', 'follower_count_bottom25%', 'notverified'}), 1), (frozenset({'WA', 'Seattle', 'follower_count_bottom25%', 'isorg', 'No_Gender', 'notverified', 'No_Age'}), 1), (frozenset({'VA', 'Reston', 'isorg', 'No_Gender', 'notverified', 'No_Age', 'follower_count_25%-50%'}), 1), (frozenset({'notorg', 'MD', '30-39', 'follower_count_50%-75%', 'DC', 'notverified', 'female'}), 1), (frozenset({'notorg', '19-29', 'City_Unknow', 'NJ', 'follower_count_50%-75%', 'notverified', 'female'}), 1), (frozenset({'Annapolis', 'MD', 'follower_count_bottom25%', 'isorg', 'No_Gender', 'notverified', 'No_Age'}), 1), (frozenset({'male', 'isverified', 'PA', 'notorg', '30-39', 'follower_count_top25%', 'Pittsburgh'}), 1), (frozenset({'CA', 'Berkeley', 'follower_count_50%-75%', 'isorg', 'No_Gender', 'notverified', 'No_Age'}), 1), (frozenset({'male', 'notorg', 'NY', 'Brooklyn', 'follower_count_bottom25%', '>=40', 'notverified'}), 1), (frozenset({'Athens', 'GA', 'follower_count_bottom25%', 'isorg', 'No_Gender', 'notverified', 'No_Age'}), 1), (frozenset({'UT', 'Salt Lake City', 'follower_count_bottom25%', 'isorg', 'No_Gender', 'notverified', 'No_Age'}), 1), (frozenset({'ID', 'City_Unknow', 'isorg', 'No_Gender', 'notverified', 'No_Age', 'follower_count_25%-50%'}), 1), (frozenset({'male', 'Chesapeake', 'VA', 'notorg', 'follower_count_top25%', '>=40', 'notverified'}), 1), (frozenset({'male', 'notorg', 'FL', 'follower_count_50%-75%', 'Pensacola', '>=40', 'notverified'}), 1), (frozenset({'male', 'notorg', '19-29', 'City_Unknow', 'NJ', 'follower_count_50%-75%', 'notverified'}), 1), (frozenset({'male', 'notorg', 'OR', 'Eugene', 'follower_count_bottom25%', '>=40', 'notverified'}), 1), (frozenset({'male', 'notorg', 'City_Unknow', '>=40', 'notverified', 'follower_count_25%-50%'}), 1), (frozenset({'male', 'TX', 'notorg', 'City_Unknow', '30-39', 'follower_count_bottom25%', 'notverified'}), 1), (frozenset({'No_Gender', 'MD', 'isorg', 'Rockville', 'notverified', 'No_Age', 'follower_count_25%-50%'}), 1), (frozenset({'male', 'Cambridge', 'notorg', 'follower_count_50%-75%', '>=40', 'MA', 'notverified'}), 1), (frozenset({'VA', 'Headquarters: Lynchburg', 'isorg', 'No_Gender', 'notverified', 'No_Age', 'follower_count_25%-50%'}), 1), (frozenset({'male', 'notorg', 'follower_count_50%-75%', 'DC', '>=40', 'notverified', 'MD'}), 1), (frozenset({'male', 'notorg', 'DC', '>=40', 'notverified', 'MD', 'follower_count_25%-50%'}), 1), (frozenset({'male', 'Bellevue', 'WA', 'notorg', '30-39', 'follower_count_50%-75%', 'notverified'}), 1), (frozenset({'male', 'ID', 'Idaho Falls', 'notorg', 'follower_count_bottom25%', '>=40', 'notverified'}), 1), (frozenset({'male', 'TX', 'notorg', 'Austin', 'follower_count_top25%', '>=40', 'notverified'}), 1), (frozenset({'male', 'notorg', 'FL', 'follower_count_top25%', 'Trinity', '>=40', 'notverified'}), 1), (frozenset({'male', 'isverified', 'notorg', 'follower_count_top25%', 'DC', '>=40', 'MD'}), 1), (frozenset({'NY', 'follower_count_top25%', 'New York City', 'isorg', 'No_Gender', 'notverified', 'No_Age'}), 1), (frozenset({'isverified', 'follower_count_top25%', 'DC', 'isorg', 'No_Gender', 'MD', 'No_Age'}), 1), (frozenset({'male', 'Dallas', 'TX', 'notorg', 'follower_count_bottom25%', '>=40', 'notverified'}), 1), (frozenset({'Detroit', 'MI', 'isorg', 'No_Gender', 'notverified', 'No_Age', 'follower_count_25%-50%'}), 1), (frozenset({'WA', 'Bellingham', 'notorg', '30-39', 'notverified', 'female', 'follower_count_25%-50%'}), 1), (frozenset({'male', 'MI', 'notorg', 'Saginaw', 'follower_count_bottom25%', '>=40', 'notverified'}), 1), (frozenset({'isverified', 'CA', 'Berkeley', 'follower_count_top25%', 'isorg', 'No_Gender', 'No_Age'}), 1), (frozenset({'male', 'CA', 'Torrance', 'notorg', '30-39', 'follower_count_bottom25%', 'notverified'}), 1), (frozenset({'isverified', 'CA', 'notorg', '30-39', 'follower_count_top25%', 'Santa Barbara', 'female'}), 1), (frozenset({'notverified', 'MD', 'follower_count_top25%', 'isorg', 'No_Gender', 'Bethesda', 'No_Age'}), 1), (frozenset({'male', 'notorg', '19-29', 'City_Unknow', 'follower_count_bottom25%', 'FL', 'notverified'}), 1), (frozenset({'TX', 'Austin', 'follower_count_top25%', 'isorg', 'No_Gender', 'notverified', 'No_Age'}), 1), (frozenset({'notorg', 'MD', '30-39', 'DC', 'notverified', 'female', 'follower_count_25%-50%'}), 1), (frozenset({'CA', 'San Luis Obispo', 'notorg', 'follower_count_top25%', '>=40', 'notverified', 'female'}), 1), (frozenset({'male', 'Indianapolis', 'notorg', '19-29', 'IN', 'follower_count_bottom25%', 'notverified'}), 1), (frozenset({'Janesville', 'follower_count_50%-75%', 'WI', 'isorg', 'No_Gender', 'notverified', 'No_Age'}), 1), (frozenset({'male', 'notorg', '19-29', 'DC', 'follower_count_bottom25%', 'notverified', 'MD'}), 1), (frozenset({'male', 'OH', 'notorg', 'City_Unknow', 'follower_count_top25%', '>=40', 'notverified'}), 1), (frozenset({'male', 'WA', 'notorg', '19-29', 'Seattle', 'follower_count_bottom25%', 'notverified'}), 1), (frozenset({'male', 'CA', 'San Luis Obispo', 'notorg', '30-39', 'notverified', 'follower_count_25%-50%'}), 1), (frozenset({'notorg', 'City_Unknow', '30-39', 'follower_count_bottom25%', 'notverified', 'female'}), 1), (frozenset({'male', 'notorg', 'NJ', 'Princeton', 'follower_count_50%-75%', '>=40', 'notverified'}), 1), (frozenset({'male', 'Cambridge', 'notorg', '30-39', 'MA', 'notverified', 'follower_count_25%-50%'}), 1), (frozenset({'MD', 'follower_count_50%-75%', 'DC', 'isorg', 'No_Gender', 'notverified', 'No_Age'}), 1), (frozenset({'male', '<=18', 'notorg', 'City_Unknow', 'follower_count_50%-75%', 'notverified'}), 1), (frozenset({'male', 'notorg', 'NC', '30-39', 'follower_count_bottom25%', 'Wilmington', 'notverified'}), 1), (frozenset({'Wilmington', 'NC', 'follower_count_top25%', 'isorg', 'No_Gender', 'notverified', 'No_Age'}), 1), (frozenset({'La Grange Park', 'follower_count_top25%', 'IL', 'isorg', 'No_Gender', 'notverified', 'No_Age'}), 1), (frozenset({'male', 'CT', 'notorg', 'New Canaan', 'follower_count_top25%', '>=40', 'notverified'}), 1), (frozenset({'CA', 'follower_count_top25%', 'Oakland', 'isorg', 'No_Gender', 'notverified', 'No_Age'}), 1), (frozenset({'male', 'TX', 'notorg', 'City_Unknow', 'follower_count_50%-75%', '>=40', 'notverified'}), 1), (frozenset({'<=18', 'notorg', 'Estero', 'follower_count_bottom25%', 'FL', 'notverified', 'female'}), 1), (frozenset({'GA', 'Atlanta', 'follower_count_50%-75%', 'isorg', 'No_Gender', 'notverified', 'No_Age'}), 1), (frozenset({'ID', 'notorg', 'City_Unknow', '30-39', 'follower_count_bottom25%', 'notverified', 'female'}), 1), (frozenset({'male', 'CA', 'Los Angeles', 'notorg', '>=40', 'notverified', 'follower_count_25%-50%'}), 1), (frozenset({'male', 'Annapolis', 'notorg', '30-39', 'follower_count_bottom25%', 'notverified', 'MD'}), 1), (frozenset({'male', 'WA', 'notorg', 'Seattle', '>=40', 'notverified', 'follower_count_25%-50%'}), 1), (frozenset({'Albuquerque', 'NM', 'follower_count_top25%', 'isorg', 'No_Gender', 'notverified', 'No_Age'}), 1), (frozenset({'CA', 'Berkeley', 'isorg', 'No_Gender', 'notverified', 'No_Age', 'follower_count_25%-50%'}), 1), (frozenset({'notorg', '19-29', 'MD', 'follower_count_50%-75%', 'DC', 'notverified', 'female'}), 1), (frozenset({'male', 'Peachtree Corners', 'notorg', 'GA', 'follower_count_bottom25%', '>=40', 'notverified'}), 1), (frozenset({'TX', 'Austin', 'follower_count_bottom25%', 'isorg', 'No_Gender', 'notverified', 'No_Age'}), 1), (frozenset({'isverified', 'notorg', 'follower_count_top25%', 'DC', '>=40', 'MD', 'female'}), 1), (frozenset({'male', 'notorg', 'City_Unknow', '30-39', 'NY', 'follower_count_50%-75%', 'notverified'}), 1), (frozenset({'male', 'notorg', '>=40', 'MA', 'notverified', 'Plymouth', 'follower_count_25%-50%'}), 1), (frozenset({'male', 'notorg', '19-29', 'City_Unknow', 'ME', 'follower_count_bottom25%', 'notverified'}), 1), (frozenset({'SC', 'Aiken', 'follower_count_bottom25%', 'isorg', 'No_Gender', 'notverified', 'No_Age'}), 1), (frozenset({'isverified', 'DC', 'isorg', 'No_Gender', 'MD', 'No_Age', 'follower_count_25%-50%'}), 1), (frozenset({'UT', 'follower_count_50%-75%', 'Salt Lake City', 'isorg', 'No_Gender', 'notverified', 'No_Age'}), 1), (frozenset({'Ann Arbor', 'MI', 'follower_count_50%-75%', 'isorg', 'No_Gender', 'notverified', 'No_Age'}), 1), (frozenset({'male', 'TX', 'notorg', '19-29', 'City_Unknow', 'follower_count_bottom25%', 'notverified'}), 1), (frozenset({'male', 'Houston', 'TX', 'notorg', '30-39', 'notverified', 'follower_count_25%-50%'}), 1), (frozenset({'notorg', 'MD', '30-39', 'follower_count_top25%', 'DC', 'notverified', 'female'}), 1), (frozenset({'male', 'notorg', 'follower_count_top25%', 'DC', '>=40', 'notverified', 'MD'}), 1), (frozenset({'male', 'Ontario', 'notorg', 'NY', 'follower_count_bottom25%', '>=40', 'notverified'}), 1), (frozenset({'male', 'VA', 'notorg', 'Reston', 'follower_count_bottom25%', '>=40', 'notverified'}), 1), (frozenset({'Baltimore', 'notorg', 'MD', 'follower_count_50%-75%', '>=40', 'notverified', 'female'}), 1), (frozenset({'male', 'CA', 'Orcutt', 'notorg', 'follower_count_bottom25%', '>=40', 'notverified'}), 1), (frozenset({'notorg', 'City_Unknow', 'IL', 'follower_count_bottom25%', '>=40', 'notverified', 'female'}), 1), (frozenset({'male', 'CA', 'notorg', '19-29', 'Irvine', 'follower_count_50%-75%', 'notverified'}), 1), (frozenset({'isverified', 'NY', 'follower_count_top25%', 'New York City', 'isorg', 'No_Gender', 'No_Age'}), 1), (frozenset({'male', '<=18', 'notorg', 'City_Unknow', 'notverified', 'follower_count_25%-50%'}), 1), (frozenset({'male', 'TX', 'notorg', '30-39', 'Austin', 'notverified', 'follower_count_25%-50%'}), 1), (frozenset({'male', 'notorg', 'City_Unknow', 'follower_count_bottom25%', '>=40', 'notverified'}), 1), (frozenset({'Champaign', 'male', 'notorg', '19-29', 'IL', 'follower_count_bottom25%', 'notverified'}), 1), (frozenset({'male', 'OH', 'notorg', '19-29', 'Cleveland', 'notverified', 'follower_count_25%-50%'}), 1), (frozenset({'City_Unknow', 'NY', 'follower_count_top25%', 'isorg', 'No_Gender', 'notverified', 'No_Age'}), 1), (frozenset({'male', 'CA', 'Los Angeles', 'notorg', 'follower_count_bottom25%', '>=40', 'notverified'}), 1), (frozenset({'male', '<=18', 'notorg', 'City_Unknow', 'follower_count_bottom25%', 'notverified'}), 1), (frozenset({'male', 'isverified', 'notorg', 'City_Unknow', '>=40', 'follower_count_25%-50%'}), 1), (frozenset({'notorg', '19-29', 'AK', 'follower_count_bottom25%', 'Juneau', 'notverified', 'female'}), 1), (frozenset({'KS', 'notorg', 'City_Unknow', '30-39', 'follower_count_top25%', 'notverified', 'female'}), 1), (frozenset({'male', 'notorg', '30-39', 'DC', 'notverified', 'MD', 'follower_count_25%-50%'}), 1), (frozenset({'Charlotte', 'NC', 'isorg', 'No_Gender', 'notverified', 'No_Age', 'follower_count_25%-50%'}), 1), (frozenset({'isverified', 'follower_count_50%-75%', 'DC', 'isorg', 'No_Gender', 'MD', 'No_Age'}), 1), (frozenset({'male', 'isverified', 'Oak Ridge', 'notorg', 'follower_count_top25%', '>=40', 'TN'}), 1), (frozenset({'male', 'MS', 'notorg', 'City_Unknow', '>=40', 'notverified', 'follower_count_25%-50%'}), 1), (frozenset({'notverified', 'OH', 'isorg', 'No_Gender', 'Columbus', 'No_Age', 'follower_count_25%-50%'}), 1), (frozenset({'male', 'notorg', 'NC', '30-39', 'Raleigh', 'follower_count_bottom25%', 'notverified'}), 1), (frozenset({'male', 'notorg', 'FL', 'St Augustine', '>=40', 'notverified', 'follower_count_25%-50%'}), 1), (frozenset({'male', 'notorg', 'City_Unknow', '30-39', 'GA', 'follower_count_bottom25%', 'notverified'}), 1), (frozenset({'male', 'CA', 'San Diego', 'notorg', '19-29', 'follower_count_50%-75%', 'notverified'}), 1), (frozenset({'CA', 'notorg', 'City_Unknow', '30-39', 'follower_count_50%-75%', 'notverified', 'female'}), 1), (frozenset({'male', 'CA', 'Los Angeles', 'notorg', '19-29', 'follower_count_bottom25%', 'notverified'}), 1), (frozenset({'male', 'ID', 'notorg', '30-39', 'follower_count_50%-75%', 'Meridian', 'notverified'}), 1), (frozenset({'male', 'notorg', 'GA', 'Atlanta', 'follower_count_50%-75%', '>=40', 'notverified'}), 1), (frozenset({'MD', 'follower_count_top25%', 'DC', 'isorg', 'No_Gender', 'notverified', 'No_Age'}), 1), (frozenset({'Augusta', 'male', 'notorg', 'GA', 'follower_count_50%-75%', '>=40', 'notverified'}), 1), (frozenset({'male', 'CA', 'San Clemente', 'notorg', 'follower_count_50%-75%', '>=40', 'notverified'}), 1), (frozenset({'City_Unknow', 'follower_count_top25%', 'isorg', 'No_Gender', 'notverified', 'No_Age'}), 1), (frozenset({'male', 'CO', 'notorg', '30-39', 'Denver', 'follower_count_50%-75%', 'notverified'}), 1), (frozenset({'male', 'Houston', 'TX', 'notorg', '19-29', 'follower_count_50%-75%', 'notverified'}), 1), (frozenset({'male', 'Saint Paul', 'MN', 'notorg', '30-39', 'notverified', 'follower_count_25%-50%'}), 1), (frozenset({'male', 'Western New York', 'notorg', 'NY', 'follower_count_bottom25%', '>=40', 'notverified'}), 1), (frozenset({'St Marys', 'male', 'notorg', 'GA', '>=40', 'notverified', 'follower_count_25%-50%'}), 1), (frozenset({'Toledo', 'OH', 'isorg', 'No_Gender', 'notverified', 'No_Age', 'follower_count_25%-50%'}), 1), (frozenset({'male', 'VA', 'notorg', 'Roanoke', 'follower_count_bottom25%', '>=40', 'notverified'}), 1), (frozenset({'ID', 'Pocatello', 'follower_count_bottom25%', 'isorg', 'No_Gender', 'notverified', 'No_Age'}), 1), (frozenset({'male', 'Vancouver', 'WA', 'notorg', 'follower_count_bottom25%', '>=40', 'notverified'}), 1), (frozenset({'CA', 'notorg', '19-29', 'Santa Rosa', 'follower_count_bottom25%', 'notverified', 'female'}), 1), (frozenset({'WA', 'Seattle', 'follower_count_50%-75%', 'isorg', 'No_Gender', 'notverified', 'No_Age'}), 1), (frozenset({'male', 'notorg', '30-39', 'follower_count_top25%', 'DC', 'notverified', 'MD'}), 1), (frozenset({'WA', 'Seattle', 'isorg', 'No_Gender', 'notverified', 'No_Age', 'follower_count_25%-50%'}), 1), (frozenset({'male', 'CA', '<=18', 'Orcutt', 'notorg', 'follower_count_bottom25%', 'notverified'}), 1), (frozenset({'City_Unknow', 'isorg', 'No_Gender', 'notverified', 'No_Age', 'follower_count_25%-50%'}), 1), (frozenset({'male', 'Folsom', 'CA', 'notorg', 'follower_count_top25%', '>=40', 'notverified'}), 1), (frozenset({'male', 'VA', 'notorg', '30-39', 'Richmond', 'notverified', 'follower_count_25%-50%'}), 1), (frozenset({'Arlington', 'notorg', '30-39', 'follower_count_50%-75%', 'MA', 'notverified', 'female'}), 1), (frozenset({'notorg', '19-29', 'follower_count_50%-75%', 'MA', 'notverified', 'female', 'Boston'}), 1), (frozenset({'male', 'Durham', 'notorg', 'NC', 'follower_count_bottom25%', '>=40', 'notverified'}), 1), (frozenset({'notorg', 'NC', 'follower_count_50%-75%', 'Raleigh', '>=40', 'notverified', 'female'}), 1), (frozenset({'male', 'notorg', 'Naperville', 'follower_count_50%-75%', 'IL', '>=40', 'notverified'}), 1), (frozenset({'Payson', 'notorg', '30-39', 'UT', 'follower_count_bottom25%', 'notverified', 'female'}), 1), (frozenset({'male', 'Ypsilanti', 'MI', 'notorg', 'follower_count_bottom25%', '>=40', 'notverified'}), 1), (frozenset({'male', 'notorg', 'FL', 'Naples', 'follower_count_bottom25%', '>=40', 'notverified'}), 1), (frozenset({'notorg', 'City_Unknow', 'follower_count_top25%', '>=40', 'notverified', 'female'}), 1), (frozenset({'male', 'Chicago', 'notorg', '19-29', 'follower_count_50%-75%', 'IL', 'notverified'}), 1), (frozenset({'male', 'notorg', '30-39', 'ND', 'Grafton', 'follower_count_bottom25%', 'notverified'}), 1), (frozenset({'male', 'notorg', 'FL', 'Tampa', '>=40', 'notverified', 'follower_count_25%-50%'}), 1), (frozenset({'male', 'North Tonawanda', 'notorg', 'NY', 'follower_count_top25%', '>=40', 'notverified'}), 1), (frozenset({'male', 'isverified', 'notorg', '30-39', 'follower_count_top25%', 'DC', 'MD'}), 1), (frozenset({'City_Unknow', 'NJ', 'isorg', 'No_Gender', 'notverified', 'No_Age', 'follower_count_25%-50%'}), 1), (frozenset({'Oak Ridge', 'TN', 'follower_count_bottom25%', 'isorg', 'No_Gender', 'notverified', 'No_Age'}), 1), (frozenset({'male', 'Charlotte', 'notorg', 'NC', '30-39', 'follower_count_50%-75%', 'notverified'}), 1), (frozenset({'notorg', 'City_Unknow', '30-39', 'WI', 'follower_count_bottom25%', 'notverified', 'female'}), 1), (frozenset({'Mountain Green', 'male', 'notorg', 'UT', 'follower_count_50%-75%', '>=40', 'notverified'}), 1), (frozenset({'City_Unknow', 'NY', 'follower_count_bottom25%', 'isorg', 'No_Gender', 'notverified', 'No_Age'}), 1), (frozenset({'male', 'notverified', 'notorg', 'follower_count_50%-75%', '>=40', 'TN', 'Germantown'}), 1), (frozenset({'male', 'CA', 'follower_count_bottom25%', 'notorg', 'Saskatoon', '>=40', 'notverified'}), 1), (frozenset({'Charleston', 'male', 'notorg', 'SC', 'follower_count_bottom25%', '>=40', 'notverified'}), 1), (frozenset({'VA', 'follower_count_50%-75%', 'Alexandria', 'isorg', 'No_Gender', 'notverified', 'No_Age'}), 1), (frozenset({'male', '<=18', 'notorg', 'NY', 'New York City', 'follower_count_bottom25%', 'notverified'}), 1), (frozenset({'VT', 'notorg', 'City_Unknow', '>=40', 'notverified', 'female', 'follower_count_25%-50%'}), 1), (frozenset({'AL', 'notorg', 'City_Unknow', 'follower_count_bottom25%', '>=40', 'notverified', 'female'}), 1), (frozenset({'male', 'CA', 'Los Angeles', 'notorg', 'follower_count_50%-75%', '>=40', 'notverified'}), 1), (frozenset({'Florida', 'male', 'notorg', 'FL', 'follower_count_bottom25%', '>=40', 'notverified'}), 1), (frozenset({'male', 'notorg', '19-29', 'City_Unknow', 'follower_count_bottom25%', 'MA', 'notverified'}), 1), (frozenset({'male', 'notorg', '30-39', 'DC', 'follower_count_bottom25%', 'notverified', 'MD'}), 1), (frozenset({'male', 'Phoenix', 'notorg', 'AZ', 'follower_count_50%-75%', '>=40', 'notverified'}), 1), (frozenset({'notorg', '19-29', 'City_Unknow', 'follower_count_50%-75%', 'MA', 'notverified', 'female'}), 1), (frozenset({'male', 'VA', 'notorg', 'City_Unknow', '30-39', 'follower_count_bottom25%', 'notverified'}), 1), (frozenset({'MI', 'notorg', 'City_Unknow', 'follower_count_top25%', '>=40', 'notverified', 'female'}), 1), (frozenset({'male', 'NYC', 'notorg', 'NY', 'follower_count_50%-75%', '>=40', 'notverified'}), 1), (frozenset({'male', 'CA', 'notorg', 'City_Unknow', 'follower_count_top25%', '>=40', 'notverified'}), 1), (frozenset({'male', 'notorg', '30-39', 'Miami', 'FL', 'notverified', 'follower_count_25%-50%'}), 1), (frozenset({'CA', 'Berkeley', 'notorg', '30-39', 'follower_count_bottom25%', 'notverified', 'female'}), 1), (frozenset({'male', 'CO', 'notorg', 'City_Unknow', '30-39', 'follower_count_top25%', 'notverified'}), 1), (frozenset({'male', 'Chicago', 'notorg', 'IL', 'follower_count_bottom25%', '>=40', 'notverified'}), 1), (frozenset({'MD', 'Takoma Park', 'follower_count_top25%', 'isorg', 'No_Gender', 'notverified', 'No_Age'}), 1), (frozenset({'male', 'notorg', 'Port St Lucie', 'FL', '>=40', 'notverified', 'follower_count_25%-50%'}), 1), (frozenset({'male', 'Chesapeake', 'VA', 'notorg', 'follower_count_50%-75%', '>=40', 'notverified'}), 1), (frozenset({'male', 'Albuquerque', 'NM', 'notorg', '30-39', 'follower_count_top25%', 'notverified'}), 1), (frozenset({'male', 'CA', 'San Diego', 'notorg', '19-29', 'follower_count_bottom25%', 'notverified'}), 1), (frozenset({'male', 'VA', 'notorg', '30-39', 'follower_count_top25%', 'Alexandria', 'notverified'}), 1), (frozenset({'Houston', 'TX', 'notorg', '19-29', 'follower_count_bottom25%', 'notverified', 'female'}), 1), (frozenset({'MD', 'DC', 'isorg', 'No_Gender', 'notverified', 'No_Age', 'follower_count_25%-50%'}), 1), (frozenset({'male', '<=18', 'notorg', 'GA', 'Atlanta', 'notverified', 'follower_count_25%-50%'}), 1), (frozenset({'male', 'Superior', 'notorg', '19-29', 'follower_count_50%-75%', 'WI', 'notverified'}), 1), (frozenset({'male', 'Mehlville', 'notorg', 'MO', 'follower_count_bottom25%', '>=40', 'notverified'}), 1), (frozenset({'male', 'TX', '>=40', 'notorg', 'follower_count_bottom25%', 'College Station', 'notverified'}), 1), (frozenset({'male', 'TX', 'notorg', 'Austin', 'follower_count_bottom25%', '>=40', 'notverified'}), 1), (frozenset({'male', 'Madison', 'notorg', '19-29', 'WI', 'notverified', 'follower_count_25%-50%'}), 1), (frozenset({'male', 'Dallas', 'TX', 'notorg', '30-39', 'follower_count_top25%', 'notverified'}), 1), (frozenset({'Charleston', 'male', 'notorg', 'SC', '30-39', 'follower_count_50%-75%', 'notverified'}), 1), (frozenset({'male', 'notorg', 'Simpsonville', 'KY', 'follower_count_bottom25%', '>=40', 'notverified'}), 1), (frozenset({'male', 'TX', 'notorg', 'City_Unknow', 'follower_count_top25%', '>=40', 'notverified'}), 1), (frozenset({'male', 'OK', 'notorg', 'Tulsa', 'follower_count_50%-75%', '>=40', 'notverified'}), 1), (frozenset({'male', 'notorg', 'City_Unknow', '30-39', 'follower_count_bottom25%', 'notverified'}), 1), (frozenset({'notverified', 'MD', 'follower_count_50%-75%', 'isorg', 'No_Gender', 'Bethesda', 'No_Age'}), 1), (frozenset({'WA', 'Tri-Cities', 'isorg', 'No_Gender', 'notverified', 'No_Age', 'follower_count_25%-50%'}), 1), (frozenset({'male', 'notorg', 'City_Unknow', 'FL', 'follower_count_bottom25%', '>=40', 'notverified'}), 1), (frozenset({'male', 'Detroit', 'MI', 'notorg', '19-29', 'follower_count_bottom25%', 'notverified'}), 1), (frozenset({'male', 'NYC', 'notorg', 'NY', '>=40', 'notverified', 'follower_count_25%-50%'}), 1), (frozenset({'male', 'notorg', 'City_Unknow', 'follower_count_50%-75%', '>=40', 'notverified', 'NV'}), 1), (frozenset({'ID', 'No_Gender', 'isorg', 'Moscow', 'notverified', 'No_Age', 'follower_count_25%-50%'}), 1), (frozenset({'NM', 'Eunice', 'follower_count_50%-75%', 'isorg', 'No_Gender', 'notverified', 'No_Age'}), 1), (frozenset({'male', 'notorg', '>=40', 'MA', 'notverified', 'Boston', 'follower_count_25%-50%'}), 1), (frozenset({'male', 'Lehigh Valley', 'PA', 'notorg', '30-39', 'follower_count_bottom25%', 'notverified'}), 1), (frozenset({'male', 'CT', 'notorg', 'City_Unknow', '30-39', 'notverified', 'follower_count_25%-50%'}), 1), (frozenset({'Port Huron', 'MI', 'notorg', 'follower_count_bottom25%', '>=40', 'notverified', 'female'}), 1), (frozenset({'male', '<=18', 'notorg', 'City_Unknow', 'NY', 'follower_count_bottom25%', 'notverified'}), 1), (frozenset({'male', '<=18', 'Chicago', 'notorg', 'IL', 'follower_count_bottom25%', 'notverified'}), 1), (frozenset({'male', 'AL', 'notorg', 'Helena', 'follower_count_50%-75%', '>=40', 'notverified'}), 1), (frozenset({'City_Unknow', 'follower_count_50%-75%', 'isorg', 'No_Gender', 'notverified', 'No_Age'}), 1), (frozenset({'PA', 'City_Unknow', 'follower_count_50%-75%', 'isorg', 'No_Gender', 'notverified', 'No_Age'}), 1), (frozenset({'male', 'West Chester', 'PA', 'notorg', '30-39', 'follower_count_top25%', 'notverified'}), 1), (frozenset({'male', 'CA', 'Bakersfield', 'notorg', 'follower_count_50%-75%', '>=40', 'notverified'}), 1), (frozenset({'notorg', 'City_Unknow', '30-39', 'notverified', 'female', 'follower_count_25%-50%'}), 1), (frozenset({'male', 'notorg', '19-29', 'City_Unknow', 'follower_count_bottom25%', 'TN', 'notverified'}), 1), (frozenset({'male', 'CA', '<=18', 'Los Angeles', 'notorg', 'follower_count_bottom25%', 'notverified'}), 1), (frozenset({'male', 'Manhattan', 'notorg', '19-29', 'NY', 'follower_count_50%-75%', 'notverified'}), 1), (frozenset({'male', 'notorg', 'City_Unknow', 'follower_count_bottom25%', '>=40', 'notverified', 'MD'}), 1), (frozenset({'male', 'KS', 'notorg', 'Kansas City', 'follower_count_bottom25%', '>=40', 'notverified'}), 1), (frozenset({'California', 'follower_count_top25%', 'Palo Alto', 'isorg', 'No_Gender', 'notverified', 'No_Age'}), 1), (frozenset({'ID', 'notorg', 'City_Unknow', '30-39', 'notverified', 'female', 'follower_count_25%-50%'}), 1), (frozenset({'male', 'isverified', 'notorg', 'NY', 'follower_count_top25%', 'New York City', '>=40'}), 1), (frozenset({'male', 'Baltimore', 'notorg', '>=40', 'notverified', 'MD', 'follower_count_25%-50%'}), 1), (frozenset({'OK', 'Tulsa', 'follower_count_50%-75%', 'isorg', 'No_Gender', 'notverified', 'No_Age'}), 1), (frozenset({'male', '<=18', 'CO', 'notorg', 'City_Unknow', 'follower_count_bottom25%', 'notverified'}), 1), (frozenset({'Houston', 'TX', 'notorg', 'follower_count_50%-75%', '>=40', 'notverified', 'female'}), 1), (frozenset({'male', 'CA', 'notorg', 'City_Unknow', '30-39', 'follower_count_50%-75%', 'notverified'}), 1), (frozenset({'male', 'WA', 'notorg', 'Seattle', 'follower_count_bottom25%', '>=40', 'notverified'}), 1), (frozenset({'male', 'OH', 'notorg', 'City_Unknow', '>=40', 'notverified', 'follower_count_25%-50%'}), 1), (frozenset({'follower_count_bottom25%', 'Benton City', 'notorg', '19-29', 'Wa', 'notverified', 'female'}), 1), (frozenset({'male', 'OH', 'notorg', 'City_Unknow', 'follower_count_bottom25%', '>=40', 'notverified'}), 1), (frozenset({'follower_count_25%-50%', 'Las Vegas', 'isorg', 'No_Gender', 'notverified', 'No_Age', 'NV'}), 1), (frozenset({'male', 'Baltimore', 'notorg', '19-29', 'notverified', 'MD', 'follower_count_25%-50%'}), 1), (frozenset({'male', 'CA', 'notorg', 'follower_count_50%-75%', 'Mountain View', '>=40', 'notverified'}), 1), (frozenset({'Ann Arbor', 'MI', 'isorg', 'No_Gender', 'notverified', 'No_Age', 'follower_count_25%-50%'}), 1), (frozenset({'male', 'Kill Devil Hills', 'notorg', 'NC', 'follower_count_50%-75%', '>=40', 'notverified'}), 1), (frozenset({'male', 'isverified', 'CA', 'notorg', '30-39', 'follower_count_top25%', 'Oakland'}), 1), (frozenset({'male', 'isverified', 'MN', 'notorg', 'Minneapolis', 'follower_count_top25%', '>=40'}), 1), (frozenset({'male', 'TX', 'Weed', 'notorg', 'follower_count_bottom25%', '>=40', 'notverified'}), 1), (frozenset({'male', 'Lincoln', 'notorg', '19-29', 'NE', 'notverified', 'follower_count_25%-50%'}), 1), (frozenset({'male', 'notorg', 'Las Vegas', 'follower_count_bottom25%', '>=40', 'notverified', 'NV'}), 1), (frozenset({'male', 'notorg', 'City_Unknow', 'IL', '>=40', 'notverified', 'follower_count_25%-50%'}), 1), (frozenset({'male', '<=18', 'LA', 'Bossier City', 'notorg', 'follower_count_bottom25%', 'notverified'}), 1), (frozenset({'FL', 'follower_count_50%-75%', 'Miami', 'isorg', 'No_Gender', 'notverified', 'No_Age'}), 1), (frozenset({'male', 'CA', '<=18', 'notorg', 'City_Unknow', 'follower_count_50%-75%', 'notverified'}), 1), (frozenset({'notorg', 'City_Unknow', '>=40', 'notverified', 'female', 'follower_count_25%-50%'}), 1), (frozenset({'NY', 'New York City', 'isorg', 'No_Gender', 'notverified', 'No_Age', 'follower_count_25%-50%'}), 1), (frozenset({'notverified', 'FL', 'follower_count_bottom25%', 'isorg', 'No_Gender', 'Hobe Sound', 'No_Age'}), 1), (frozenset({'male', 'notorg', 'City_Unknow', 'follower_count_top25%', '>=40', 'notverified'}), 1), (frozenset({'ID', 'City_Unknow', 'follower_count_50%-75%', 'isorg', 'No_Gender', 'notverified', 'No_Age'}), 1), (frozenset({'male', 'CA', 'Berkeley', 'notorg', '19-29', 'follower_count_bottom25%', 'notverified'}), 1), (frozenset({'male', 'VA', 'notorg', 'Virginia Beach', 'follower_count_bottom25%', '>=40', 'notverified'}), 1), (frozenset({'Alameda', 'CA', 'follower_count_50%-75%', 'isorg', 'No_Gender', 'notverified', 'No_Age'}), 1), (frozenset({'Lake Oswego', 'OR', 'follower_count_50%-75%', 'isorg', 'No_Gender', 'notverified', 'No_Age'}), 1), (frozenset({'male', 'Chicago', 'notorg', '19-29', 'IL', 'follower_count_bottom25%', 'notverified'}), 1), (frozenset({'male', 'AL', 'Gulf Shores', 'notorg', 'follower_count_bottom25%', '>=40', 'notverified'}), 1), (frozenset({'male', 'TX', 'notorg', '19-29', 'Austin', 'follower_count_50%-75%', 'notverified'}), 1), (frozenset({'male', 'WA', 'Redmond', 'notorg', '30-39', 'notverified', 'follower_count_25%-50%'}), 1), (frozenset({'City_Unknow', 'follower_count_bottom25%', 'isorg', 'No_Gender', 'notverified', 'No_Age'}), 1), (frozenset({'male', 'CA', 'follower_count_50%-75%', 'notorg', 'Danville', '>=40', 'notverified'}), 1), (frozenset({'male', 'notorg', 'FL', 'Gainesville', '>=40', 'notverified', 'follower_count_25%-50%'}), 1), (frozenset({'male', 'PA', 'notorg', '19-29', 'State College', 'follower_count_bottom25%', 'notverified'}), 1), (frozenset({'male', 'CA', 'Los Angeles', 'notorg', '30-39', 'notverified', 'follower_count_25%-50%'}), 1), (frozenset({'male', 'notorg', 'City_Unknow', 'GA', 'follower_count_bottom25%', '>=40', 'notverified'}), 1), (frozenset({'male', 'notorg', '19-29', 'City_Unknow', 'follower_count_bottom25%', 'notverified', 'MD'}), 1), (frozenset({'male', 'notorg', 'City_Unknow', 'NY', 'follower_count_bottom25%', '>=40', 'notverified'}), 1), (frozenset({'male', 'LA', 'Lafayette', 'notorg', '19-29', 'notverified', 'follower_count_25%-50%'}), 1), (frozenset({'male', 'Gaithersburg', 'notorg', 'follower_count_50%-75%', '>=40', 'notverified', 'MD'}), 1), (frozenset({'male', 'TX', 'notorg', 'City_Unknow', '>=40', 'notverified', 'follower_count_25%-50%'}), 1), (frozenset({'male', 'notorg', '30-39', 'Kansas City', 'MO', 'notverified', 'follower_count_25%-50%'}), 1), (frozenset({'male', 'PA', 'notorg', 'City_Unknow', '30-39', 'follower_count_bottom25%', 'notverified'}), 1), (frozenset({'notorg', 'City_Unknow', 'IN', '>=40', 'notverified', 'female', 'follower_count_25%-50%'}), 1), (frozenset({'CA', 'notorg', '19-29', 'Cathedral City', 'follower_count_bottom25%', 'notverified', 'female'}), 1), (frozenset({'male', 'Greenville', 'notorg', 'SC', '30-39', 'follower_count_bottom25%', 'notverified'}), 1), (frozenset({'male', 'notorg', '30-39', 'NY', 'follower_count_top25%', 'New York City', 'notverified'}), 1), (frozenset({'CA', 'notorg', '19-29', 'Orange County', 'notverified', 'female', 'follower_count_25%-50%'}), 1), (frozenset({'IA', 'male', 'notorg', 'follower_count_50%-75%', '>=40', 'notverified', 'Iowa City'}), 1), (frozenset({'male', '<=18', 'TX', 'San Antonio', 'notorg', 'follower_count_50%-75%', 'notverified'}), 1), (frozenset({'male', 'MS', 'notorg', 'Hattiesburg', 'follower_count_bottom25%', '>=40', 'notverified'}), 1), (frozenset({'male', 'KS', 'notorg', '30-39', 'Wichita', 'follower_count_50%-75%', 'notverified'}), 1), (frozenset({'Cincinnati', 'male', 'OH', 'notorg', '19-29', 'follower_count_50%-75%', 'notverified'}), 1), (frozenset({'male', 'Hamilton', 'notorg', '19-29', 'NJ', 'follower_count_bottom25%', 'notverified'}), 1), (frozenset({'IA', 'male', '<=18', 'notorg', 'City_Unknow', 'follower_count_bottom25%', 'notverified'}), 1), (frozenset({'notorg', '19-29', 'IN', 'West Lafayette', 'follower_count_50%-75%', 'notverified', 'female'}), 1), (frozenset({'Lebanon', 'isverified', 'NH', 'follower_count_top25%', 'isorg', 'No_Gender', 'No_Age'}), 1), (frozenset({'<=18', 'notorg', 'City_Unknow', 'follower_count_top25%', 'notverified', 'female'}), 1), (frozenset({'male', 'Madison', '<=18', 'notorg', 'WI', 'notverified', 'follower_count_25%-50%'}), 1), (frozenset({'notorg', 'City_Unknow', 'NY', '>=40', 'notverified', 'female', 'follower_count_25%-50%'}), 1), (frozenset({'male', 'AL', 'Fort Payne', 'notorg', '19-29', 'follower_count_bottom25%', 'notverified'}), 1), (frozenset({'isverified', 'VA', 'notorg', 'City_Unknow', 'follower_count_top25%', '>=40', 'female'}), 1), (frozenset({'male', 'isverified', 'CA', 'Berkeley', 'notorg', 'follower_count_top25%', '>=40'}), 1), (frozenset({'CO', 'Denver', 'follower_count_50%-75%', 'isorg', 'No_Gender', 'notverified', 'No_Age'}), 1), (frozenset({'notorg', '19-29', 'Miami Beach', 'FL', 'notverified', 'female', 'follower_count_25%-50%'}), 1), (frozenset({'Richland', 'WA', 'isorg', 'No_Gender', 'notverified', 'No_Age', 'follower_count_25%-50%'}), 1), (frozenset({'PA', 'follower_count_25%-50%', 'notorg', '19-29', 'notverified', 'female', 'Pittsburgh'}), 1), (frozenset({'male', 'CA', 'notorg', 'City_Unknow', 'follower_count_bottom25%', '>=40', 'notverified'}), 1), (frozenset({'notorg', '19-29', 'Princeton', 'NJ', 'follower_count_bottom25%', 'notverified', 'female'}), 1), (frozenset({'male', 'Trumbull', 'CT', 'notorg', 'follower_count_top25%', '>=40', 'notverified'}), 1), (frozenset({'male', 'AR', 'notorg', 'Eureka Springs', 'follower_count_bottom25%', '>=40', 'notverified'}), 1), (frozenset({'male', 'KS', 'notorg', 'City_Unknow', 'follower_count_bottom25%', '>=40', 'notverified'}), 1), (frozenset({'male', 'Las Cruces', 'NM', 'notorg', '19-29', 'follower_count_bottom25%', 'notverified'}), 1), (frozenset({'male', 'notorg', '19-29', 'NY', 'New York City', 'notverified', 'follower_count_25%-50%'}), 1), (frozenset({'CA', 'San Diego', 'follower_count_bottom25%', 'isorg', 'No_Gender', 'notverified', 'No_Age'}), 1), (frozenset({'male', 'PA', 'Republic', 'notorg', '30-39', 'follower_count_bottom25%', 'notverified'}), 1), (frozenset({'CO', 'Boulder', 'follower_count_50%-75%', 'isorg', 'No_Gender', 'notverified', 'No_Age'}), 1), (frozenset({'male', 'notorg', 'follower_count_50%-75%', '>=40', 'MA', 'notverified', 'Boston'}), 1), (frozenset({'notorg', 'City_Unknow', '30-39', 'follower_count_top25%', 'FL', 'notverified', 'female'}), 1), (frozenset({'WA', 'City_Unknow', 'follower_count_top25%', 'isorg', 'No_Gender', 'notverified', 'No_Age'}), 1), (frozenset({'notorg', '19-29', 'MD', 'DC', 'notverified', 'female', 'follower_count_25%-50%'}), 1), (frozenset({'Athens', 'male', 'notorg', 'GA', 'follower_count_top25%', '>=40', 'notverified'}), 1), (frozenset({'male', 'Chicago', 'notorg', '19-29', 'IL', 'notverified', 'follower_count_25%-50%'}), 1), (frozenset({'male', '<=18', 'notorg', 'follower_count_top25%', 'DC', 'notverified', 'MD'}), 1), (frozenset({'CA', 'San Jose', 'notorg', '19-29', 'follower_count_bottom25%', 'notverified', 'female'}), 1), (frozenset({'male', 'NM', 'notorg', 'City_Unknow', 'follower_count_bottom25%', '>=40', 'notverified'}), 1), (frozenset({'male', 'Charlotte', 'notorg', 'NC', 'follower_count_top25%', '>=40', 'notverified'}), 1), (frozenset({'CA', 'Los Angeles', 'follower_count_top25%', 'isorg', 'No_Gender', 'notverified', 'No_Age'}), 1), (frozenset({'male', 'PA', 'notorg', 'City_Unknow', 'follower_count_50%-75%', '>=40', 'notverified'}), 1), (frozenset({'male', 'CA', 'notorg', '19-29', 'Oakland', 'follower_count_bottom25%', 'notverified'}), 1), (frozenset({'male', 'notorg', 'DC', 'follower_count_bottom25%', '>=40', 'notverified', 'MD'}), 1), (frozenset({'CA', 'notorg', 'City_Unknow', '30-39', 'follower_count_bottom25%', 'notverified', 'female'}), 1), (frozenset({'male', 'Hobe Sound', 'notorg', '30-39', 'follower_count_bottom25%', 'FL', 'notverified'}), 1), (frozenset({'male', 'Dallas', 'TX', 'notorg', '19-29', 'follower_count_bottom25%', 'notverified'}), 1), (frozenset({'male', 'notorg', 'NY', 'New York City', 'follower_count_bottom25%', '>=40', 'notverified'}), 1), (frozenset({'Newark', 'NJ', 'follower_count_top25%', 'isorg', 'No_Gender', 'notverified', 'No_Age'}), 1), (frozenset({'male', 'CO', 'notorg', 'Denver', 'follower_count_50%-75%', '>=40', 'notverified'}), 1), (frozenset({'male', 'Ann Arbor', 'MI', 'notorg', 'follower_count_top25%', '>=40', 'notverified'}), 1), (frozenset({'male', 'notorg', 'City_Unknow', 'NY', 'follower_count_top25%', '>=40', 'notverified'}), 1), (frozenset({'male', 'WA', 'notorg', '30-39', 'Seattle', 'follower_count_bottom25%', 'notverified'}), 1), (frozenset({'male', 'CA', 'Lancaster', 'notorg', 'follower_count_bottom25%', '>=40', 'notverified'}), 1), (frozenset({'male', 'notorg', '19-29', 'Space Coast', 'follower_count_50%-75%', 'FL', 'notverified'}), 1), (frozenset({'male', 'Anna', 'TX', 'notorg', 'follower_count_bottom25%', '>=40', 'notverified'}), 1), (frozenset({'male', 'CA', 'notorg', 'City_Unknow', '>=40', 'notverified', 'follower_count_25%-50%'}), 1), (frozenset({'CA', 'notorg', '30-39', 'follower_count_bottom25%', 'notverified', 'female', 'Sacramento'}), 1), (frozenset({'male', 'OK', 'notorg', 'Stillwater', '30-39', 'notverified', 'follower_count_25%-50%'}), 1), (frozenset({'Long Beach', 'CA', '<=18', 'notorg', 'follower_count_bottom25%', 'notverified', 'female'}), 1), (frozenset({'male', 'MI', 'notorg', 'City_Unknow', '30-39', 'follower_count_bottom25%', 'notverified'}), 1), (frozenset({'follower_count_25%-50%', 'notorg', 'Las Vegas', '>=40', 'notverified', 'female', 'NV'}), 1), (frozenset({'male', 'CO', 'notorg', 'Boulder', 'follower_count_top25%', '>=40', 'notverified'}), 1), (frozenset({'WA', 'notorg', '19-29', 'City_Unknow', 'follower_count_bottom25%', 'notverified', 'female'}), 1), (frozenset({'male', 'CA', 'Costa Mesa', 'notorg', '30-39', 'follower_count_bottom25%', 'notverified'}), 1), (frozenset({'male', 'notorg', 'City_Unknow', '30-39', 'follower_count_50%-75%', 'IL', 'notverified'}), 1), (frozenset({'CA', 'San Diego', 'isorg', 'No_Gender', 'notverified', 'No_Age', 'follower_count_25%-50%'}), 1), (frozenset({'male', 'notorg', 'City_Unknow', 'NE', '>=40', 'notverified', 'follower_count_25%-50%'}), 1), (frozenset({'Omaha', 'notorg', 'NE', '>=40', 'notverified', 'female', 'follower_count_25%-50%'}), 1), (frozenset({'OH', 'notorg', '19-29', 'Cleveland', 'follower_count_bottom25%', 'notverified', 'female'}), 1), (frozenset({'male', '<=18', 'Dallas', 'TX', 'notorg', 'follower_count_bottom25%', 'notverified'}), 1), (frozenset({'TX', 'notorg', 'Richmond', 'follower_count_50%-75%', '>=40', 'notverified', 'female'}), 1), (frozenset({'male', 'follower_count_bottom25%', 'notorg', 'NY', 'Long Island', '>=40', 'notverified'}), 1), (frozenset({'male', 'TX', 'notorg', '19-29', 'City_Unknow', 'follower_count_50%-75%', 'notverified'}), 1), (frozenset({'male', 'follower_count_bottom25%', 'notorg', 'NC', 'Hampstead', '>=40', 'notverified'}), 1), (frozenset({'Chicago', 'IL', 'isorg', 'No_Gender', 'notverified', 'No_Age', 'follower_count_25%-50%'}), 1), (frozenset({'<=18', 'notorg', 'City_Unknow', 'follower_count_50%-75%', 'notverified', 'female'}), 1), (frozenset({'male', 'Chicago', 'notorg', 'IL', '>=40', 'notverified', 'follower_count_25%-50%'}), 1), (frozenset({'male', 'notorg', 'City_Unknow', 'follower_count_top25%', '>=40', 'notverified', 'MD'}), 1), (frozenset({'male', 'notorg', 'City_Unknow', '30-39', 'follower_count_50%-75%', 'notverified'}), 1), (frozenset({'male', 'OK', 'notorg', '30-39', 'Tulsa', 'follower_count_bottom25%', 'notverified'}), 1), (frozenset({'male', 'NH', 'notorg', 'City_Unknow', 'follower_count_bottom25%', '>=40', 'notverified'}), 1), (frozenset({'male', 'CO', 'notorg', 'Boulder', 'follower_count_50%-75%', '>=40', 'notverified'}), 1), (frozenset({'notorg', '19-29', 'City_Unknow', 'follower_count_top25%', 'notverified', 'female'}), 1), (frozenset({'isverified', 'Chicago', 'follower_count_top25%', 'IL', 'isorg', 'No_Gender', 'No_Age'}), 1), (frozenset({'male', 'notorg', 'City_Unknow', 'FL', 'follower_count_top25%', '>=40', 'notverified'}), 1), (frozenset({'GA', 'Atlanta', 'isorg', 'No_Gender', 'notverified', 'No_Age', 'follower_count_25%-50%'}), 1), (frozenset({'male', 'Goodyear', 'notorg', '30-39', 'AZ', 'follower_count_bottom25%', 'notverified'}), 1), (frozenset({'notorg', '19-29', 'MD', 'follower_count_top25%', 'DC', 'notverified', 'female'}), 1), (frozenset({'Ketchikan', 'notorg', '19-29', 'AK', 'follower_count_top25%', 'notverified', 'female'}), 1), (frozenset({'notorg', 'NC', 'follower_count_bottom25%', '>=40', 'Wilmington', 'notverified', 'female'}), 1), (frozenset({'male', 'CA', 'San Diego', 'notorg', '30-39', 'notverified', 'follower_count_25%-50%'}), 1), (frozenset({'male', 'KS', 'notorg', 'Overland Park', 'follower_count_bottom25%', '>=40', 'notverified'}), 1), (frozenset({'male', 'MN', 'notorg', 'Minneapolis', 'follower_count_bottom25%', '>=40', 'notverified'}), 1), (frozenset({'male', 'notorg', '19-29', 'follower_count_50%-75%', 'TN', 'notverified', 'Nashville'}), 1), (frozenset({'male', 'CA', 'notorg', 'City_Unknow', 'follower_count_50%-75%', '>=40', 'notverified'}), 1), (frozenset({'male', 'CA', 'notorg', '19-29', 'City_Unknow', 'notverified', 'follower_count_25%-50%'}), 1), (frozenset({'notorg', 'MD', 'DC', '>=40', 'notverified', 'female', 'follower_count_25%-50%'}), 1), (frozenset({'Scottsdale', 'AZ', 'follower_count_50%-75%', 'isorg', 'No_Gender', 'notverified', 'No_Age'}), 1), (frozenset({'male', 'CA', 'notorg', '19-29', 'City_Unknow', 'follower_count_bottom25%', 'notverified'}), 1), (frozenset({'CA', 'notorg', 'City_Unknow', '>=40', 'notverified', 'female', 'follower_count_25%-50%'}), 1), (frozenset({'Chicago', 'notorg', '30-39', 'IL', 'follower_count_bottom25%', 'notverified', 'female'}), 1), (frozenset({'male', 'OH', 'notorg', 'Cleveland', 'follower_count_bottom25%', '>=40', 'notverified'}), 1), (frozenset({'CA', '<=18', 'notorg', 'City_Unknow', 'notverified', 'female', 'follower_count_25%-50%'}), 1), (frozenset({'male', '<=18', 'KS', 'notorg', 'City_Unknow', 'follower_count_bottom25%', 'notverified'}), 1), (frozenset({'male', 'notorg', 'City_Unknow', 'follower_count_50%-75%', 'WI', '>=40', 'notverified'}), 1), (frozenset({'male', 'OH', 'notorg', '19-29', 'Cleveland', 'follower_count_bottom25%', 'notverified'}), 1), (frozenset({'CA', 'Silicon Beach', 'isorg', 'No_Gender', 'notverified', 'No_Age', 'follower_count_25%-50%'}), 1), (frozenset({'male', 'notorg', 'City_Unknow', '30-39', 'UT', 'follower_count_bottom25%', 'notverified'}), 1), (frozenset({'male', 'MN', 'notorg', 'Minneapolis', '>=40', 'notverified', 'follower_count_25%-50%'}), 1), (frozenset({'OR', 'Portland', 'isorg', 'No_Gender', 'notverified', 'No_Age', 'follower_count_25%-50%'}), 1), (frozenset({'PA', 'follower_count_top25%', 'isorg', 'No_Gender', 'notverified', 'No_Age', 'Pittsburgh'}), 1), (frozenset({'male', 'VA', 'Arlington', 'notorg', 'follower_count_top25%', '>=40', 'notverified'}), 1), (frozenset({'Florida', 'Juno Beach', 'isverified', 'follower_count_top25%', 'isorg', 'No_Gender', 'No_Age'}), 1), (frozenset({'New York', 'NY', 'follower_count_top25%', 'isorg', 'No_Gender', 'notverified', 'No_Age'}), 1), (frozenset({'male', 'notorg', 'GA', 'Atlanta', '>=40', 'notverified', 'follower_count_25%-50%'}), 1), (frozenset({'MO', \"O'Fallon\", 'follower_count_bottom25%', 'isorg', 'No_Gender', 'notverified', 'No_Age'}), 1), (frozenset({'male', 'notorg', '19-29', 'City_Unknow', 'IL', 'follower_count_bottom25%', 'notverified'}), 1), (frozenset({'Chicago', 'follower_count_top25%', 'IL', 'isorg', 'No_Gender', 'notverified', 'No_Age'}), 1), (frozenset({'male', '<=18', 'WA', 'notorg', 'City_Unknow', 'follower_count_bottom25%', 'notverified'}), 1), (frozenset({'male', 'Goodyear', 'notorg', '19-29', 'AZ', 'follower_count_bottom25%', 'notverified'}), 1), (frozenset({'male', 'Buffalo', 'notorg', 'NY', 'follower_count_top25%', '>=40', 'notverified'}), 1), (frozenset({'male', 'notorg', 'follower_count_bottom25%', '>=40', 'TN', 'notverified', 'Nashville'}), 1), (frozenset({'male', 'notorg', '30-39', 'Kansas City', 'MO', 'follower_count_bottom25%', 'notverified'}), 1), (frozenset({'male', 'CO', 'notorg', 'Denver', 'follower_count_top25%', '>=40', 'notverified'}), 1), (frozenset({'male', 'CO', 'notorg', 'City_Unknow', '30-39', 'follower_count_bottom25%', 'notverified'}), 1), (frozenset({'<=18', 'Manorville', 'notorg', 'NY', 'follower_count_bottom25%', 'notverified', 'female'}), 1), (frozenset({'notorg', 'Eagle River', 'AK', 'follower_count_top25%', '>=40', 'notverified', 'female'}), 1), (frozenset({'MD', 'Takoma Park', 'follower_count_50%-75%', 'isorg', 'No_Gender', 'notverified', 'No_Age'}), 1), (frozenset({'male', 'TX', 'notorg', 'Austin', 'follower_count_50%-75%', '>=40', 'notverified'}), 1), (frozenset({'male', 'Nellis Air Force Base', 'notorg', '30-39', 'follower_count_bottom25%', 'notverified', 'NV'}), 1), (frozenset({'MA', 'Cambridge', 'follower_count_top25%', 'isorg', 'No_Gender', 'notverified', 'No_Age'}), 1), (frozenset({'OK', 'notorg', '19-29', 'Tulsa', 'follower_count_bottom25%', 'notverified', 'female'}), 1), (frozenset({'ID', 'Idaho Falls', 'notorg', '19-29', 'follower_count_bottom25%', 'notverified', 'female'}), 1), (frozenset({'Hollywood', 'notorg', '30-39', 'follower_count_bottom25%', 'FL', 'notverified', 'female'}), 1), (frozenset({'OH', 'notorg', 'City_Unknow', '30-39', 'follower_count_50%-75%', 'notverified', 'female'}), 1), (frozenset({'Williston', 'FL', 'follower_count_bottom25%', 'isorg', 'No_Gender', 'notverified', 'No_Age'}), 1), (frozenset({'male', 'Oak Ridge', 'notorg', '30-39', 'follower_count_bottom25%', 'TN', 'notverified'}), 1), (frozenset({'<=18', 'notorg', 'City_Unknow', 'notverified', 'female', 'follower_count_25%-50%'}), 1), (frozenset({'notorg', '30-39', 'GA', 'Atlanta', 'notverified', 'female', 'follower_count_25%-50%'}), 1), (frozenset({'male', 'Rocklin', 'CA', 'notorg', '30-39', 'follower_count_bottom25%', 'notverified'}), 1), (frozenset({'male', 'Olympia', 'WA', 'notorg', '30-39', 'follower_count_bottom25%', 'notverified'}), 1), (frozenset({'male', 'notorg', 'follower_count_top25%', '>=40', 'MA', 'notverified', 'Boston'}), 1), (frozenset({'male', 'notorg', 'Takoma Park', '>=40', 'notverified', 'MD', 'follower_count_25%-50%'}), 1), (frozenset({'male', 'notorg', '30-39', 'Fort Lauderdale', 'FL', 'notverified', 'follower_count_25%-50%'}), 1), (frozenset({'Brewer', 'ME', 'isorg', 'No_Gender', 'notverified', 'No_Age', 'follower_count_25%-50%'}), 1), (frozenset({'male', 'notorg', 'NY', 'follower_count_top25%', 'New York City', '>=40', 'notverified'}), 1), (frozenset({'male', 'MI', 'notorg', '30-39', 'Birmingham', 'follower_count_bottom25%', 'notverified'}), 1), (frozenset({'male', 'Ann Arbor', 'MI', 'notorg', '30-39', 'notverified', 'follower_count_25%-50%'}), 1), (frozenset({'male', 'notorg', 'Henderson', 'follower_count_bottom25%', '>=40', 'notverified', 'NV'}), 1), (frozenset({'AR', 'notorg', '19-29', 'City_Unknow', 'notverified', 'female', 'follower_count_25%-50%'}), 1), (frozenset({'Charlotte', 'NC', 'follower_count_bottom25%', 'isorg', 'No_Gender', 'notverified', 'No_Age'}), 1), (frozenset({'CA', 'notorg', '19-29', 'Venice', 'follower_count_50%-75%', 'notverified', 'female'}), 1), (frozenset({'male', 'CA', '<=18', 'Vacaville', 'notorg', 'follower_count_bottom25%', 'notverified'}), 1), (frozenset({'MS', 'City_Unknow', 'follower_count_bottom25%', 'isorg', 'No_Gender', 'notverified', 'No_Age'}), 1), (frozenset({'male', 'Chicago', 'notorg', '19-29', 'follower_count_top25%', 'IL', 'notverified'}), 1), (frozenset({'Beverly', 'male', 'notorg', '19-29', 'MA', 'notverified', 'follower_count_25%-50%'}), 1), (frozenset({'male', 'TX', 'notorg', 'City_Unknow', 'follower_count_bottom25%', '>=40', 'notverified'}), 1), (frozenset({'male', 'CA', 'Burbank', 'notorg', 'follower_count_bottom25%', '>=40', 'notverified'}), 1), (frozenset({'male', '<=18', 'Las Cruces', 'NM', 'notorg', 'notverified', 'follower_count_25%-50%'}), 1), (frozenset({'MN', 'notorg', 'City_Unknow', '>=40', 'notverified', 'female', 'follower_count_25%-50%'}), 1), (frozenset({'male', 'CA', 'Berkeley', 'notorg', '19-29', 'follower_count_50%-75%', 'notverified'}), 1), (frozenset({'Montpelier', 'VT', 'follower_count_bottom25%', 'isorg', 'No_Gender', 'notverified', 'No_Age'}), 1), (frozenset({'TX', 'notorg', 'City_Unknow', 'follower_count_top25%', '>=40', 'notverified', 'female'}), 1), (frozenset({'La Homestead Strangiato', 'male', 'notorg', '19-29', 'follower_count_top25%', 'ME', 'notverified'}), 1), (frozenset({'CA', 'notorg', '19-29', 'City_Unknow', 'follower_count_bottom25%', 'notverified', 'female'}), 1), (frozenset({'Romulus', 'MI', 'follower_count_bottom25%', 'isorg', 'No_Gender', 'notverified', 'No_Age'}), 1), (frozenset({'male', 'AL', '<=18', 'notorg', 'City_Unknow', 'follower_count_bottom25%', 'notverified'}), 1), (frozenset({'male', 'RI', 'notorg', 'Providence', 'follower_count_bottom25%', '>=40', 'notverified'}), 1), (frozenset({'male', '<=18', 'notorg', 'DC', 'follower_count_bottom25%', 'notverified', 'MD'}), 1), (frozenset({'male', 'notorg', '19-29', 'MO', 'notverified', 'St Louis', 'follower_count_25%-50%'}), 1), (frozenset({'male', 'notorg', 'City_Unknow', 'NC', 'follower_count_bottom25%', '>=40', 'notverified'}), 1), (frozenset({'Freeport', 'IL', 'follower_count_bottom25%', 'isorg', 'No_Gender', 'notverified', 'No_Age'}), 1), (frozenset({'CA', 'Davis', 'notorg', '19-29', 'follower_count_bottom25%', 'notverified', 'female'}), 1), (frozenset({'CA', '<=18', 'notorg', 'Iowa Strong', 'follower_count_bottom25%', 'notverified', 'female'}), 1), (frozenset({'male', 'El Dorado', 'AR', 'notorg', 'follower_count_bottom25%', '>=40', 'notverified'}), 1), (frozenset({'IA', 'male', 'Treynor', 'notorg', 'follower_count_50%-75%', '>=40', 'notverified'}), 1), (frozenset({'CA', 'Santa Cruz', 'isorg', 'No_Gender', 'notverified', 'No_Age', 'follower_count_25%-50%'}), 1), (frozenset({'male', 'CO', 'notorg', '19-29', 'City_Unknow', 'follower_count_bottom25%', 'notverified'}), 1), (frozenset({'notorg', 'City_Unknow', 'KY', 'follower_count_bottom25%', '>=40', 'notverified', 'female'}), 1), (frozenset({'Albuquerque', 'NM', 'follower_count_bottom25%', 'isorg', 'No_Gender', 'notverified', 'No_Age'}), 1), (frozenset({'TX', 'City_Unknow', 'isorg', 'No_Gender', 'notverified', 'No_Age', 'follower_count_25%-50%'}), 1), (frozenset({'male', 'CA', 'Los Angeles', 'notorg', '30-39', 'follower_count_top25%', 'notverified'}), 1), (frozenset({'CA', 'San Luis Obispo', 'notorg', '>=40', 'notverified', 'female', 'follower_count_25%-50%'}), 1), (frozenset({'FL', 'Tampa', 'follower_count_bottom25%', 'isorg', 'No_Gender', 'notverified', 'No_Age'}), 1), (frozenset({'VA', 'Arlington', 'notorg', '30-39', 'follower_count_top25%', 'notverified', 'female'}), 1), (frozenset({'male', 'Dallas', 'TX', 'notorg', '19-29', 'notverified', 'follower_count_25%-50%'}), 1), (frozenset({'male', 'notorg', 'NC', '30-39', 'follower_count_50%-75%', 'Concord', 'notverified'}), 1), (frozenset({'male', 'notorg', 'follower_count_top25%', 'Portland', 'ME', '>=40', 'notverified'}), 1), (frozenset({'male', 'VA', 'notorg', 'City_Unknow', '>=40', 'notverified', 'follower_count_25%-50%'}), 1), (frozenset({'male', 'CA', 'Los Angeles', 'notorg', '19-29', 'notverified', 'follower_count_25%-50%'}), 1), (frozenset({'male', 'CO', 'notorg', '30-39', 'Denver', 'follower_count_bottom25%', 'notverified'}), 1), (frozenset({'male', '<=18', 'CO', 'notorg', 'Denver', 'follower_count_bottom25%', 'notverified'}), 1), (frozenset({'male', 'MI', 'notorg', 'City_Unknow', 'follower_count_50%-75%', '>=40', 'notverified'}), 1), (frozenset({'male', 'AL', 'notorg', 'Helena', 'follower_count_bottom25%', '>=40', 'notverified'}), 1), (frozenset({'male', 'notorg', 'follower_count_bottom25%', '>=40', 'MA', 'notverified', 'Boston'}), 1), (frozenset({'male', 'CA', 'notorg', 'Palo Alto', 'follower_count_bottom25%', '>=40', 'notverified'}), 1), (frozenset({'male', 'VA', 'notorg', 'City_Unknow', 'follower_count_bottom25%', '>=40', 'notverified'}), 1), (frozenset({'Chicago', 'notorg', '19-29', 'IL', 'follower_count_bottom25%', 'notverified', 'female'}), 1), (frozenset({'male', 'Monahans', 'TX', 'notorg', '30-39', 'follower_count_bottom25%', 'notverified'}), 1), (frozenset({'male', 'notverified', 'notorg', 'IL', '>=40', 'Oak Park', 'follower_count_25%-50%'}), 1), (frozenset({'male', 'MN', 'notorg', '19-29', 'Minneapolis', 'follower_count_bottom25%', 'notverified'}), 1), (frozenset({'York', 'male', 'PA', 'notorg', 'follower_count_bottom25%', '>=40', 'notverified'}), 1), (frozenset({'male', 'CA', 'notorg', 'San Francisco', '>=40', 'notverified', 'follower_count_25%-50%'}), 1), (frozenset({'isverified', 'CA', 'Los Angeles', 'follower_count_top25%', 'isorg', 'No_Gender', 'No_Age'}), 1), (frozenset({'male', 'Buffalo', 'notorg', 'NY', '>=40', 'notverified', 'follower_count_25%-50%'}), 1), (frozenset({'Lansing', 'MI', 'isorg', 'No_Gender', 'notverified', 'No_Age', 'follower_count_25%-50%'}), 1), (frozenset({'male', '<=18', 'TX', 'notorg', 'City_Unknow', 'follower_count_bottom25%', 'notverified'}), 1), (frozenset({'male', 'KS', 'notorg', 'Wichita', 'follower_count_50%-75%', '>=40', 'notverified'}), 1), (frozenset({'male', '<=18', 'Chicopee', 'notorg', 'MA', 'notverified', 'follower_count_25%-50%'}), 1), (frozenset({'Dahlonega', 'notorg', 'GA', 'follower_count_50%-75%', '>=40', 'notverified', 'female'}), 1), (frozenset({'male', 'notorg', '30-39', 'Columbia', 'IL', 'follower_count_bottom25%', 'notverified'}), 1), (frozenset({'Cincinnati', 'male', 'OH', 'notorg', '30-39', 'follower_count_bottom25%', 'notverified'}), 1), (frozenset({'CO', 'City_Unknow', 'follower_count_top25%', 'isorg', 'No_Gender', 'notverified', 'No_Age'}), 1), (frozenset({'male', 'WA', 'notorg', 'City_Unknow', '30-39', 'follower_count_50%-75%', 'notverified'}), 1), (frozenset({'male', 'Manhattan', 'notorg', 'NY', 'follower_count_50%-75%', '>=40', 'notverified'}), 1), (frozenset({'isverified', 'NYC', 'NY', 'follower_count_top25%', 'isorg', 'No_Gender', 'No_Age'}), 1), (frozenset({'AR', 'notorg', 'City_Unknow', '30-39', 'follower_count_bottom25%', 'notverified', 'female'}), 1), (frozenset({'male', 'TX', 'notorg', 'Fort Worth', 'follower_count_bottom25%', '>=40', 'notverified'}), 1), (frozenset({'male', 'OK', 'notorg', 'City_Unknow', 'follower_count_top25%', '>=40', 'notverified'}), 1), (frozenset({'PA', 'Upper Darby', 'notorg', '19-29', 'follower_count_50%-75%', 'notverified', 'female'}), 1), (frozenset({'male', 'notorg', 'NC', 'follower_count_bottom25%', '>=40', 'notverified', 'Apex'}), 1), (frozenset({'male', 'notorg', 'NC', '30-39', 'Concord', 'follower_count_bottom25%', 'notverified'}), 1), (frozenset({'LA', 'New Orleans', 'isorg', 'No_Gender', 'notverified', 'No_Age', 'follower_count_25%-50%'}), 1), (frozenset({'isverified', 'NM', 'City_Unknow', 'follower_count_top25%', 'isorg', 'No_Gender', 'No_Age'}), 1), (frozenset({'male', 'notorg', 'NY', 'Brooklyn', '>=40', 'notverified', 'follower_count_25%-50%'}), 1), (frozenset({'male', 'notorg', 'City_Unknow', '30-39', 'NY', 'notverified', 'follower_count_25%-50%'}), 1), (frozenset({'male', 'notorg', 'City_Unknow', 'NJ', 'follower_count_top25%', '>=40', 'notverified'}), 1), (frozenset({'Findlay', 'OH', 'notorg', 'follower_count_bottom25%', '>=40', 'notverified', 'female'}), 1), (frozenset({'male', 'isverified', 'CA', 'San Diego', 'notorg', '>=40', 'follower_count_25%-50%'}), 1), (frozenset({'isverified', 'Knoxville', 'TN', 'follower_count_top25%', 'isorg', 'No_Gender', 'No_Age'}), 1), (frozenset({'WA', 'notorg', 'Seattle', 'follower_count_bottom25%', '>=40', 'notverified', 'female'}), 1), (frozenset({'male', 'notorg', '30-39', 'follower_count_bottom25%', 'MA', 'notverified', 'Boston'}), 1), (frozenset({'male', 'Logan', 'notorg', '30-39', 'UT', 'notverified', 'follower_count_25%-50%'}), 1), (frozenset({'male', 'PA', 'notorg', '30-39', 'follower_count_50%-75%', 'notverified', 'Pittsburgh'}), 1), (frozenset({'CA', 'notorg', 'City_Unknow', 'follower_count_bottom25%', '>=40', 'notverified', 'female'}), 1), (frozenset({'male', 'notorg', 'City_Unknow', '>=40', 'MA', 'notverified', 'follower_count_25%-50%'}), 1), (frozenset({'male', 'CA', 'San Jose', 'notorg', 'follower_count_bottom25%', '>=40', 'notverified'}), 1), (frozenset({'male', 'CO', 'notorg', '19-29', 'Denver', 'follower_count_top25%', 'notverified'}), 1), (frozenset({'VA', 'Arlington', 'follower_count_top25%', 'isorg', 'No_Gender', 'notverified', 'No_Age'}), 1), (frozenset({'male', '<=18', 'notorg', 'City_Unknow', 'follower_count_bottom25%', 'FL', 'notverified'}), 1)])"
            ]
          },
          "metadata": {
            "tags": []
          },
          "execution_count": 66
        }
      ]
    },
    {
      "cell_type": "code",
      "metadata": {
        "id": "n5j9jsyec4UV"
      },
      "source": [
        "for tranSet, count in initSet.items():\n",
        "  temp_records = {}\n",
        "  for item in tranSet:  \n",
        "    if item in freqItemSet:\n",
        "      temp_records[item] = headerTable[item][0]         #第二次遍历database，如果当前的item在frequent里，将其添加入临时的dict并且按照frequency排序\n",
        "  if len(temp_records) > 0:\n",
        "    sortededItems = [v[0] for v in sorted(temp_records.items(), key=lambda p: p[1], reverse=True)]\n",
        "    buildTree(sortededItems, cur_root, headerTable, count)    # 根据当前的temp_records对数进行更新"
      ],
      "execution_count": null,
      "outputs": []
    },
    {
      "cell_type": "code",
      "metadata": {
        "id": "1Si04DlJc4XM"
      },
      "source": [
        "def buildTree(sorteditems, cur_root, headerTable, count):\n",
        "  if sorteditems[0] in cur_root.children:\n",
        "      cur_root.children[sorteditems[0]].inc(count)               #如果当前的item在curnode的孩子里，孩子的count + 1\n",
        "  else:  \n",
        "    cur_root.children[sorteditems[0]] = treeNode(sorteditems[0], count, cur_root) #如果不在，添加item 进入当前cur_root的孩子里，并且赋值count 为1\n",
        "    if headerTable[sorteditems[0]][1] == None: \n",
        "        headerTable[sorteditems[0]][1] = cur_root.children[sorteditems[0]]    #如果这是这个item第一次出现在tree里， 将当前的node位置记录在header里\n",
        "    else:\n",
        "      updatelink(headerTable[sorteditems[0]][1], cur_root.children[sorteditems[0]])  #如果这个item已经出现过，那么就要把上一次item的位置与后一次出现的位置相连\n",
        "  if len(sorteditems) > 1:                                 #如果sorteditems还有未添加的item，recursion继续\n",
        "      buildTree(sorteditems[1:], cur_root.children[sorteditems[0]], headerTable, count) "
      ],
      "execution_count": null,
      "outputs": []
    },
    {
      "cell_type": "code",
      "metadata": {
        "id": "2eTGpfuac4Zk"
      },
      "source": [
        "def updatelink(lastposition, newposition):   \n",
        "  while (lastposition.nodeLink != None):    # 不过更新link， 使得每一个同样的item之前都存在link，以便后期mining\n",
        "    lastposition = lastposition.nodeLink\n",
        "  lastposition.nodeLink = newposition\n",
        "  lastposition.disp()"
      ],
      "execution_count": null,
      "outputs": []
    },
    {
      "cell_type": "code",
      "metadata": {
        "id": "SXxv4TY0c4cI"
      },
      "source": [
        "cur_root.disp()"
      ],
      "execution_count": null,
      "outputs": []
    },
    {
      "cell_type": "code",
      "metadata": {
        "id": "LKCfdV3Wc4ek"
      },
      "source": [
        "def ascendTree(leafNode, prefixPath): #往上遍历，添加当前path\n",
        "  Allpaths = {}\n",
        "  if leafNode.parent:\n",
        "      Allpaths.append(leafNode.name)\n",
        "      ascendTree(leafNode.parent, prefixPath)"
      ],
      "execution_count": null,
      "outputs": []
    },
    {
      "cell_type": "code",
      "metadata": {
        "id": "btv4Vz3HSNEt"
      },
      "source": [
        "def findPrefixPath(basePat, treeNode): #treeNode comes from header table\n",
        "    condPats = {}\n",
        "    while treeNode != None:\n",
        "        prefixPath = []\n",
        "        ascendTree(treeNode, prefixPath)\n",
        "        if len(prefixPath) > 1: \n",
        "            condPats[frozenset(prefixPath[1:])] = treeNode.count\n",
        "        treeNode = treeNode.nodeLink\n",
        "    return condPats"
      ],
      "execution_count": null,
      "outputs": []
    },
    {
      "cell_type": "code",
      "metadata": {
        "id": "06Y2B48Sh7u2",
        "colab": {
          "base_uri": "https://localhost:8080/"
        },
        "outputId": "b56662e3-8b28-4e80-b182-06c06be4b6e6"
      },
      "source": [
        "headerTable"
      ],
      "execution_count": null,
      "outputs": [
        {
          "output_type": "execute_result",
          "data": {
            "text/plain": [
              "{'30-39': [103, <__main__.treeNode at 0x7fb674f5b470>],\n",
              " '>=40': [202, <__main__.treeNode at 0x7fb674dcc1d0>],\n",
              " 'City_Unknow': [131, <__main__.treeNode at 0x7fb674dccd68>],\n",
              " 'No_Age': [112, <__main__.treeNode at 0x7fb67500e390>],\n",
              " 'No_Gender': [112, <__main__.treeNode at 0x7fb67500e2e8>],\n",
              " 'follower_count_25%-50%': [122, <__main__.treeNode at 0x7fb674dcc470>],\n",
              " 'follower_count_50%-75%': [111, <__main__.treeNode at 0x7fb674dccef0>],\n",
              " 'follower_count_bottom25%': [206, <__main__.treeNode at 0x7fb674dccb00>],\n",
              " 'isorg': [112, <__main__.treeNode at 0x7fb67500e2b0>],\n",
              " 'male': [331, <__main__.treeNode at 0x7fb674dcc518>],\n",
              " 'notorg': [426, <__main__.treeNode at 0x7fb674dccda0>],\n",
              " 'notverified': [511, <__main__.treeNode at 0x7fb674dcc5f8>]}"
            ]
          },
          "metadata": {
            "tags": []
          },
          "execution_count": 83
        }
      ]
    },
    {
      "cell_type": "code",
      "metadata": {
        "id": "papd-I4giaQz",
        "colab": {
          "base_uri": "https://localhost:8080/",
          "height": 295
        },
        "outputId": "e0864c06-d3b7-4c01-f18b-17cbb870c75c"
      },
      "source": [
        "findPrefixPath('>=40', headerTable['>=40'][1])"
      ],
      "execution_count": null,
      "outputs": [
        {
          "output_type": "error",
          "ename": "AttributeError",
          "evalue": "ignored",
          "traceback": [
            "\u001b[0;31m---------------------------------------------------------------------------\u001b[0m",
            "\u001b[0;31mAttributeError\u001b[0m                            Traceback (most recent call last)",
            "\u001b[0;32m<ipython-input-84-62b09bf80b7b>\u001b[0m in \u001b[0;36m<module>\u001b[0;34m()\u001b[0m\n\u001b[0;32m----> 1\u001b[0;31m \u001b[0mfindPrefixPath\u001b[0m\u001b[0;34m(\u001b[0m\u001b[0;34m'>=40'\u001b[0m\u001b[0;34m,\u001b[0m \u001b[0mheaderTable\u001b[0m\u001b[0;34m[\u001b[0m\u001b[0;34m'>=40'\u001b[0m\u001b[0;34m]\u001b[0m\u001b[0;34m[\u001b[0m\u001b[0;36m1\u001b[0m\u001b[0;34m]\u001b[0m\u001b[0;34m)\u001b[0m\u001b[0;34m\u001b[0m\u001b[0;34m\u001b[0m\u001b[0m\n\u001b[0m",
            "\u001b[0;32m<ipython-input-74-5e35de8bac86>\u001b[0m in \u001b[0;36mfindPrefixPath\u001b[0;34m(basePat, treeNode)\u001b[0m\n\u001b[1;32m      3\u001b[0m     \u001b[0;32mwhile\u001b[0m \u001b[0mtreeNode\u001b[0m \u001b[0;34m!=\u001b[0m \u001b[0;32mNone\u001b[0m\u001b[0;34m:\u001b[0m\u001b[0;34m\u001b[0m\u001b[0;34m\u001b[0m\u001b[0m\n\u001b[1;32m      4\u001b[0m         \u001b[0mprefixPath\u001b[0m \u001b[0;34m=\u001b[0m \u001b[0;34m[\u001b[0m\u001b[0;34m]\u001b[0m\u001b[0;34m\u001b[0m\u001b[0;34m\u001b[0m\u001b[0m\n\u001b[0;32m----> 5\u001b[0;31m         \u001b[0mascendTree\u001b[0m\u001b[0;34m(\u001b[0m\u001b[0mtreeNode\u001b[0m\u001b[0;34m,\u001b[0m \u001b[0mprefixPath\u001b[0m\u001b[0;34m)\u001b[0m\u001b[0;34m\u001b[0m\u001b[0;34m\u001b[0m\u001b[0m\n\u001b[0m\u001b[1;32m      6\u001b[0m         \u001b[0;32mif\u001b[0m \u001b[0mlen\u001b[0m\u001b[0;34m(\u001b[0m\u001b[0mprefixPath\u001b[0m\u001b[0;34m)\u001b[0m \u001b[0;34m>\u001b[0m \u001b[0;36m1\u001b[0m\u001b[0;34m:\u001b[0m\u001b[0;34m\u001b[0m\u001b[0;34m\u001b[0m\u001b[0m\n\u001b[1;32m      7\u001b[0m             \u001b[0mcondPats\u001b[0m\u001b[0;34m[\u001b[0m\u001b[0mfrozenset\u001b[0m\u001b[0;34m(\u001b[0m\u001b[0mprefixPath\u001b[0m\u001b[0;34m[\u001b[0m\u001b[0;36m1\u001b[0m\u001b[0;34m:\u001b[0m\u001b[0;34m]\u001b[0m\u001b[0;34m)\u001b[0m\u001b[0;34m]\u001b[0m \u001b[0;34m=\u001b[0m \u001b[0mtreeNode\u001b[0m\u001b[0;34m.\u001b[0m\u001b[0mcount\u001b[0m\u001b[0;34m\u001b[0m\u001b[0;34m\u001b[0m\u001b[0m\n",
            "\u001b[0;32m<ipython-input-82-35cffc914bcf>\u001b[0m in \u001b[0;36mascendTree\u001b[0;34m(leafNode, prefixPath)\u001b[0m\n\u001b[1;32m      2\u001b[0m   \u001b[0mAllpaths\u001b[0m \u001b[0;34m=\u001b[0m \u001b[0;34m{\u001b[0m\u001b[0;34m}\u001b[0m\u001b[0;34m\u001b[0m\u001b[0;34m\u001b[0m\u001b[0m\n\u001b[1;32m      3\u001b[0m   \u001b[0;32mif\u001b[0m \u001b[0mleafNode\u001b[0m\u001b[0;34m.\u001b[0m\u001b[0mparent\u001b[0m\u001b[0;34m:\u001b[0m\u001b[0;34m\u001b[0m\u001b[0;34m\u001b[0m\u001b[0m\n\u001b[0;32m----> 4\u001b[0;31m       \u001b[0mAllpaths\u001b[0m\u001b[0;34m.\u001b[0m\u001b[0mappend\u001b[0m\u001b[0;34m(\u001b[0m\u001b[0mleafNode\u001b[0m\u001b[0;34m.\u001b[0m\u001b[0mname\u001b[0m\u001b[0;34m)\u001b[0m\u001b[0;34m\u001b[0m\u001b[0;34m\u001b[0m\u001b[0m\n\u001b[0m\u001b[1;32m      5\u001b[0m       \u001b[0mascendTree\u001b[0m\u001b[0;34m(\u001b[0m\u001b[0mleafNode\u001b[0m\u001b[0;34m.\u001b[0m\u001b[0mparent\u001b[0m\u001b[0;34m,\u001b[0m \u001b[0mprefixPath\u001b[0m\u001b[0;34m)\u001b[0m\u001b[0;34m\u001b[0m\u001b[0;34m\u001b[0m\u001b[0m\n",
            "\u001b[0;31mAttributeError\u001b[0m: 'dict' object has no attribute 'append'"
          ]
        }
      ]
    },
    {
      "cell_type": "code",
      "metadata": {
        "id": "wddWXJ_pjvDk",
        "colab": {
          "base_uri": "https://localhost:8080/",
          "height": 900
        },
        "outputId": "68e72715-b1c2-4d3e-d4e8-9c7f38448232"
      },
      "source": [
        "findPrefixPath(' Male', headerTable[' Male'][1])"
      ],
      "execution_count": null,
      "outputs": [
        {
          "output_type": "execute_result",
          "data": {
            "text/plain": [
              "{frozenset({' <=50K', ' United-States', ' White', 'loss0'}): 180,\n",
              " frozenset({'gain0', 'loss0'}): 42,\n",
              " frozenset({' United-States', 'gain0', 'loss0'}): 116,\n",
              " frozenset({' <=50K', ' United-States', ' White', 'gain0', 'loss0'}): 3327,\n",
              " frozenset({' <=50K', ' Private', ' United-States', 'gain0', 'loss0'}): 993,\n",
              " frozenset({' White', 'gain0'}): 17,\n",
              " frozenset({' United-States', ' White', 'gain0', 'loss0'}): 1388,\n",
              " frozenset({' Private', 'loss0'}): 29,\n",
              " frozenset({' Private', ' United-States', ' White', 'loss0'}): 749,\n",
              " frozenset({' Private', 'gain0', 'loss0'}): 94,\n",
              " frozenset({' Private', ' United-States', 'loss0'}): 52,\n",
              " frozenset({'gain0'}): 11,\n",
              " frozenset({' Private', ' United-States', 'gain0', 'loss0'}): 132,\n",
              " frozenset({' <=50K', 'gain0', 'loss0'}): 124,\n",
              " frozenset({' Private', 'gain0'}): 17,\n",
              " frozenset({' <=50K', ' Private', 'gain0', 'loss0'}): 399,\n",
              " frozenset({' Private', ' United-States', ' White', 'gain0'}): 357,\n",
              " frozenset({'loss0'}): 21,\n",
              " frozenset({' White', 'loss0'}): 25,\n",
              " frozenset({' Private', ' United-States', ' White', 'gain0', 'loss0'}): 2567,\n",
              " frozenset({' <=50K', ' United-States', 'gain0', 'loss0'}): 394,\n",
              " frozenset({' <=50K', ' Private', ' United-States', ' White', 'gain0'}): 274,\n",
              " frozenset({' Private', ' White', 'gain0', 'loss0'}): 158,\n",
              " frozenset({' <=50K', 'loss0'}): 5,\n",
              " frozenset({' <=50K', ' Private', ' White', 'gain0', 'loss0'}): 894,\n",
              " frozenset({' <=50K', ' Private', ' United-States', ' White', 'loss0'}): 383,\n",
              " frozenset({' <=50K', ' White', 'gain0', 'loss0'}): 201,\n",
              " frozenset({' United-States', ' White', 'gain0'}): 219,\n",
              " frozenset({' United-States', ' White', 'loss0'}): 458,\n",
              " frozenset({' White', 'gain0', 'loss0'}): 89,\n",
              " frozenset({' <=50K', 'gain0'}): 10,\n",
              " frozenset({' <=50K', ' United-States', 'gain0'}): 14,\n",
              " frozenset({' <=50K', ' Private', 'gain0'}): 14,\n",
              " frozenset({' <=50K', ' Private', ' United-States', 'gain0'}): 20,\n",
              " frozenset({' <=50K', ' Private', ' United-States', 'loss0'}): 34,\n",
              " frozenset({' United-States', 'gain0'}): 12,\n",
              " frozenset({' <=50K', ' United-States', ' White', 'gain0'}): 124,\n",
              " frozenset({' <=50K', ' United-States', 'loss0'}): 19,\n",
              " frozenset({' Private', ' White', 'loss0'}): 41,\n",
              " frozenset({' Private', ' White', 'gain0'}): 19,\n",
              " frozenset({' <=50K', ' White', 'loss0'}): 14,\n",
              " frozenset({' <=50K', ' White', 'gain0'}): 8,\n",
              " frozenset({' <=50K', ' Private', 'loss0'}): 14,\n",
              " frozenset({' <=50K', ' Private', ' White', 'loss0'}): 38,\n",
              " frozenset({' United-States', 'loss0'}): 27,\n",
              " frozenset({' Private', ' United-States', 'gain0'}): 20,\n",
              " frozenset({' <=50K', ' Private', ' White', 'gain0'}): 14,\n",
              " frozenset({' <=50K',\n",
              "            ' Private',\n",
              "            ' United-States',\n",
              "            ' White',\n",
              "            'gain0',\n",
              "            'loss0'}): 7618}"
            ]
          },
          "metadata": {
            "tags": []
          },
          "execution_count": 44
        }
      ]
    },
    {
      "cell_type": "code",
      "metadata": {
        "id": "eCW17HEgjv9b",
        "colab": {
          "base_uri": "https://localhost:8080/",
          "height": 416
        },
        "outputId": "378917d8-0892-4c74-aa8b-2a3479f1e4bf"
      },
      "source": [
        "findPrefixPath(' Private', headerTable[' Private'][1])"
      ],
      "execution_count": null,
      "outputs": [
        {
          "output_type": "execute_result",
          "data": {
            "text/plain": [
              "{frozenset({'loss0'}): 33,\n",
              " frozenset({'gain0'}): 18,\n",
              " frozenset({' <=50K', 'gain0', 'loss0'}): 677,\n",
              " frozenset({' United-States', 'gain0'}): 22,\n",
              " frozenset({' <=50K', ' United-States', 'gain0', 'loss0'}): 2028,\n",
              " frozenset({' United-States', ' White', 'loss0'}): 887,\n",
              " frozenset({'gain0', 'loss0'}): 115,\n",
              " frozenset({' United-States', 'gain0', 'loss0'}): 171,\n",
              " frozenset({' White', 'gain0'}): 20,\n",
              " frozenset({' United-States', ' White', 'gain0'}): 414,\n",
              " frozenset({' United-States', 'loss0'}): 72,\n",
              " frozenset({' White', 'loss0'}): 44,\n",
              " frozenset({' United-States', ' White', 'gain0', 'loss0'}): 2973,\n",
              " frozenset({' <=50K', ' United-States', ' White', 'gain0'}): 419,\n",
              " frozenset({' White', 'gain0', 'loss0'}): 192,\n",
              " frozenset({' <=50K', 'gain0'}): 23,\n",
              " frozenset({' <=50K', ' White', 'gain0'}): 23,\n",
              " frozenset({' <=50K', 'loss0'}): 18,\n",
              " frozenset({' <=50K', ' White', 'loss0'}): 60,\n",
              " frozenset({' <=50K', ' White', 'gain0', 'loss0'}): 1331,\n",
              " frozenset({' <=50K', ' United-States', ' White', 'loss0'}): 549,\n",
              " frozenset({' <=50K', ' United-States', 'gain0'}): 43,\n",
              " frozenset({' <=50K', ' United-States', 'loss0'}): 69,\n",
              " frozenset({' <=50K', ' United-States', ' White', 'gain0', 'loss0'}): 12472}"
            ]
          },
          "metadata": {
            "tags": []
          },
          "execution_count": 45
        }
      ]
    },
    {
      "cell_type": "code",
      "metadata": {
        "id": "J49sZFnFjytl",
        "colab": {
          "base_uri": "https://localhost:8080/",
          "height": 33
        },
        "outputId": "8979505d-519b-4111-c97f-973a78f44a47"
      },
      "source": [
        "findPrefixPath('gain0', headerTable['gain0'][1])"
      ],
      "execution_count": null,
      "outputs": [
        {
          "output_type": "execute_result",
          "data": {
            "text/plain": [
              "{frozenset({'loss0'}): 28306}"
            ]
          },
          "metadata": {
            "tags": []
          },
          "execution_count": 46
        }
      ]
    },
    {
      "cell_type": "code",
      "metadata": {
        "id": "_FKQu63Xeswr",
        "colab": {
          "base_uri": "https://localhost:8080/",
          "height": 116
        },
        "outputId": "8942997b-c1bb-48c6-e545-fd1c58ac542a"
      },
      "source": [
        "findPrefixPath(' White', headerTable[' White'][1])"
      ],
      "execution_count": null,
      "outputs": [
        {
          "output_type": "execute_result",
          "data": {
            "text/plain": [
              "{frozenset({' United-States', 'loss0'}): 2252,\n",
              " frozenset({'gain0'}): 74,\n",
              " frozenset({' United-States', 'gain0'}): 1272,\n",
              " frozenset({'loss0'}): 157,\n",
              " frozenset({'gain0', 'loss0'}): 1958,\n",
              " frozenset({' United-States', 'gain0', 'loss0'}): 22082}"
            ]
          },
          "metadata": {
            "tags": []
          },
          "execution_count": 47
        }
      ]
    }
  ]
}